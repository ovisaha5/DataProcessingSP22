{
  "nbformat": 4,
  "nbformat_minor": 0,
  "metadata": {
    "colab": {
      "name": "Quiz_21.ipynb",
      "provenance": [],
      "collapsed_sections": [],
      "authorship_tag": "ABX9TyPnDfI2N+/Uyf3qwizwna9d",
      "include_colab_link": true
    },
    "kernelspec": {
      "name": "python3",
      "display_name": "Python 3"
    },
    "language_info": {
      "name": "python"
    }
  },
  "cells": [
    {
      "cell_type": "markdown",
      "metadata": {
        "id": "view-in-github",
        "colab_type": "text"
      },
      "source": [
        "<a href=\"https://colab.research.google.com/github/ovisaha5/DataProcessingSP22/blob/main/Quiz_21.ipynb\" target=\"_parent\"><img src=\"https://colab.research.google.com/assets/colab-badge.svg\" alt=\"Open In Colab\"/></a>"
      ]
    },
    {
      "cell_type": "markdown",
      "source": [
        "##Quiz 21 Graphical Excellence\n",
        "###Avijit Saha\n"
      ],
      "metadata": {
        "id": "eTXEJN-UbPar"
      }
    },
    {
      "cell_type": "markdown",
      "source": [
        "####Question 1\n",
        "![john Snow](https://upload.wikimedia.org/wikipedia/commons/2/27/Snow-cholera-map-1.jpg)"
      ],
      "metadata": {
        "id": "i2KIHwwbbiaL"
      }
    },
    {
      "cell_type": "markdown",
      "source": [
        "According to the map John Snow used some disk to show the infected area. The more of the people infected the disk goes up. Visually, It is presenting many number in a small space. It included the thought about the data. We can easily compare the more infected and the less infected area by this map. But we do not no the actual numbers. So I think it is not precised and clear.\n"
      ],
      "metadata": {
        "id": "4-leDfcMb7QI"
      }
    },
    {
      "cell_type": "markdown",
      "source": [
        "###Question 2\n",
        "![statista](https://cdn.statcdn.com/Infographic/images/normal/24853.jpeg)\n",
        "\n",
        "[Here is the link](https://www.statista.com/chart/24853/actual-and-reported-covid-19-deaths/)"
      ],
      "metadata": {
        "id": "77gmWp4veLyC"
      }
    },
    {
      "cell_type": "markdown",
      "source": [
        "The above graphics is an example of modern graphic excellece, where it is comparing the reported death and estimated total death for some countries. It is visual, clear and also precised. It has many numbers in a small space. It has a percentage to compare the data. Also, the number are visual which is representing a lot of data."
      ],
      "metadata": {
        "id": "BlCGBOM0ewVK"
      }
    }
  ]
}