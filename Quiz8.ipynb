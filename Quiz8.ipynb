{
  "nbformat": 4,
  "nbformat_minor": 0,
  "metadata": {
    "colab": {
      "name": "Quiz8.ipynb",
      "provenance": [],
      "collapsed_sections": [],
      "authorship_tag": "ABX9TyMRxCFt4O5PZhifgtsMgdDE",
      "include_colab_link": true
    },
    "kernelspec": {
      "name": "python3",
      "display_name": "Python 3"
    },
    "language_info": {
      "name": "python"
    }
  },
  "cells": [
    {
      "cell_type": "markdown",
      "metadata": {
        "id": "view-in-github",
        "colab_type": "text"
      },
      "source": [
        "<a href=\"https://colab.research.google.com/github/ovisaha5/DataProcessingSP22/blob/main/Quiz8.ipynb\" target=\"_parent\"><img src=\"https://colab.research.google.com/assets/colab-badge.svg\" alt=\"Open In Colab\"/></a>"
      ]
    },
    {
      "cell_type": "markdown",
      "source": [
        "##Quiz8_HTML\n",
        "####Avijit Saha\n"
      ],
      "metadata": {
        "id": "Cekea6yrPm4A"
      }
    },
    {
      "cell_type": "code",
      "source": [
        "import requests\n",
        "import pandas as pa\n",
        "from bs4 import BeautifulSoup"
      ],
      "metadata": {
        "id": "bPgKeeT8PzQV"
      },
      "execution_count": 1,
      "outputs": []
    },
    {
      "cell_type": "code",
      "source": [
        "r = requests.get('https://en.wikipedia.org/wiki/Avengers_(Marvel_Cinematic_Universe)')\n",
        "html_contents = r.text\n",
        "html_soup = BeautifulSoup(html_contents,\"lxml\")\n",
        "#html_soup"
      ],
      "metadata": {
        "id": "iQLfS9vxQz9Z"
      },
      "execution_count": 3,
      "outputs": []
    },
    {
      "cell_type": "markdown",
      "source": [
        "####Title"
      ],
      "metadata": {
        "id": "oBMWFW1uRU-d"
      }
    },
    {
      "cell_type": "code",
      "source": [
        "html_soup.title"
      ],
      "metadata": {
        "colab": {
          "base_uri": "https://localhost:8080/"
        },
        "id": "u4t2FmzuQ-je",
        "outputId": "b34fb7b7-16d1-49bd-8330-41f4e9334e02"
      },
      "execution_count": 5,
      "outputs": [
        {
          "output_type": "execute_result",
          "data": {
            "text/plain": [
              "<title>Avengers (Marvel Cinematic Universe) - Wikipedia</title>"
            ]
          },
          "metadata": {},
          "execution_count": 5
        }
      ]
    },
    {
      "cell_type": "markdown",
      "source": [
        "####List of Links"
      ],
      "metadata": {
        "id": "PgDUJvQFSTkx"
      }
    },
    {
      "cell_type": "code",
      "source": [
        "links = html_soup.table.find_all('a')\n",
        "listOfURLS = []\n",
        "\n",
        "for link in links:\n",
        "  listOfURLS.append('https://en.wikipedia.org' + link['href'])\n",
        "\n",
        "listOfURLS"
      ],
      "metadata": {
        "colab": {
          "base_uri": "https://localhost:8080/"
        },
        "id": "Wk8Ra2PJRdOp",
        "outputId": "37ee080f-8ffd-436e-e7d0-44307878ee8a"
      },
      "execution_count": 8,
      "outputs": [
        {
          "output_type": "execute_result",
          "data": {
            "text/plain": [
              "['https://en.wikipedia.org/wiki/File:Symbol_from_Marvel%27s_The_Avengers_logo.svg',\n",
              " 'https://en.wikipedia.org/wiki/Fictional_universe',\n",
              " 'https://en.wikipedia.org/wiki/Marvel_Cinematic_Universe',\n",
              " 'https://en.wikipedia.org/wiki/The_Avengers_(2012_film)',\n",
              " 'https://en.wikipedia.org/wiki/Avengers_Compound_(Marvel_Cinematic_Universe)',\n",
              " 'https://en.wikipedia.org/wiki/Upstate_New_York',\n",
              " 'https://en.wikipedia.org/wiki/Avengers_Tower_(Marvel_Cinematic_Universe)',\n",
              " 'https://en.wikipedia.org/wiki/New_York_(state)',\n",
              " 'https://en.wikipedia.org#cite_note-1',\n",
              " 'https://en.wikipedia.org/wiki/Steve_Rogers_(Marvel_Cinematic_Universe)',\n",
              " 'https://en.wikipedia.org/wiki/Tony_Stark_(Marvel_Cinematic_Universe)',\n",
              " 'https://en.wikipedia.org/wiki/Natasha_Romanoff_(Marvel_Cinematic_Universe)',\n",
              " 'https://en.wikipedia.org#Team_roster',\n",
              " 'https://en.wikipedia.org#cite_note-2',\n",
              " 'https://en.wikipedia.org/wiki/S.H.I.E.L.D._(Marvel_Cinematic_Universe)',\n",
              " 'https://en.wikipedia.org/wiki/Stark_Industries_(Marvel_Cinematic_Universe)',\n",
              " 'https://en.wikipedia.org/wiki/Asgard_(Marvel_Cinematic_Universe)',\n",
              " 'https://en.wikipedia.org/wiki/World_Security_Council',\n",
              " 'https://en.wikipedia.org/wiki/United_States_federal_government',\n",
              " 'https://en.wikipedia.org/wiki/United_Nations',\n",
              " 'https://en.wikipedia.org/wiki/Wakanda_(Marvel_Cinematic_Universe)',\n",
              " 'https://en.wikipedia.org/wiki/Masters_of_the_Mystic_Arts',\n",
              " 'https://en.wikipedia.org/wiki/Guardians_of_the_Galaxy_(Marvel_Cinematic_Universe)',\n",
              " 'https://en.wikipedia.org/wiki/Ravagers_(Marvel_Cinematic_Universe)']"
            ]
          },
          "metadata": {},
          "execution_count": 8
        }
      ]
    }
  ]
}