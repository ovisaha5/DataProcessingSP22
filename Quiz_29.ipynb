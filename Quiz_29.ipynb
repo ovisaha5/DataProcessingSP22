{
  "nbformat": 4,
  "nbformat_minor": 0,
  "metadata": {
    "colab": {
      "name": "Quiz_29.ipynb",
      "provenance": [],
      "collapsed_sections": [],
      "authorship_tag": "ABX9TyMwwCyEQV6zgfdA3KSwMnaF",
      "include_colab_link": true
    },
    "kernelspec": {
      "name": "python3",
      "display_name": "Python 3"
    },
    "language_info": {
      "name": "python"
    }
  },
  "cells": [
    {
      "cell_type": "markdown",
      "metadata": {
        "id": "view-in-github",
        "colab_type": "text"
      },
      "source": [
        "<a href=\"https://colab.research.google.com/github/ovisaha5/DataProcessingSP22/blob/main/Quiz_29.ipynb\" target=\"_parent\"><img src=\"https://colab.research.google.com/assets/colab-badge.svg\" alt=\"Open In Colab\"/></a>"
      ]
    },
    {
      "cell_type": "markdown",
      "source": [
        "##Quiz_29\n",
        "###Uncertainity\n",
        "###Avijit Saha"
      ],
      "metadata": {
        "id": "NFMqri3k-3u-"
      }
    },
    {
      "cell_type": "markdown",
      "source": [
        "####Difference between standard error and confidence intervals."
      ],
      "metadata": {
        "id": "AbJkEhg1kYPC"
      }
    },
    {
      "cell_type": "markdown",
      "source": [
        "Standard error is a estimated measure of a statistical accuracy where confidence interval uses estimated standard errors to draw an interval with a certain level of confidence around the estimated effect."
      ],
      "metadata": {
        "id": "aEN1Mef0lIY-"
      }
    },
    {
      "cell_type": "markdown",
      "source": [
        "####Use the workout data and graph the average calories by workout type and include the 95% confidence interval."
      ],
      "metadata": {
        "id": "LSPvOJgC_Ddw"
      }
    },
    {
      "cell_type": "code",
      "source": [
        "import pandas as pa\n",
        "import matplotlib.pyplot as plt\n",
        "df = pa.read_csv('https://raw.githubusercontent.com/nurfnick/Data_Viz/main/Activity_Dataset_V1.csv')\n",
        "df.head()"
      ],
      "metadata": {
        "colab": {
          "base_uri": "https://localhost:8080/",
          "height": 317
        },
        "id": "FNMsj_3z_KHE",
        "outputId": "73c39996-89b0-4c8a-b792-64f756f92113"
      },
      "execution_count": 1,
      "outputs": [
        {
          "output_type": "execute_result",
          "data": {
            "text/plain": [
              "   Unnamed: 0 activity_day    workout_type  distance  time  calories  \\\n",
              "0           0   2022-01-01       Freestyle      9.30    77       123   \n",
              "1           1   2022-01-01       Freestyle      3.44    96        55   \n",
              "2           2   2022-01-01  Indoor Cycling      6.34    85        33   \n",
              "3           3   2022-01-01         Walking      7.91    42        82   \n",
              "4           4   2022-01-01      Open Water      8.99    36       131   \n",
              "\n",
              "   total_steps  avg_speed  avg_cadence  max_cadence  ... max_pace min_pace  \\\n",
              "0          NaN      18.88       168.54       138.30  ...      NaN      NaN   \n",
              "1          NaN      29.65       125.92       292.81  ...      NaN      NaN   \n",
              "2          NaN      17.85        81.93       323.69  ...      NaN      NaN   \n",
              "3       1571.0      22.10        29.63       180.16  ...    28:58    07:58   \n",
              "4          NaN      25.83        64.55       342.89  ...      NaN      NaN   \n",
              "\n",
              "  avg_heart_rate  max_heart_rate  min_heart_rate  vo2_max(%)  aerobic(%)  \\\n",
              "0          112.5           122.0             103          19          28   \n",
              "1          111.0           122.0             100          42          28   \n",
              "2           95.0            90.0             100           1          32   \n",
              "3           83.0            85.0              81           3          22   \n",
              "4          138.0           166.0             110           7           0   \n",
              "\n",
              "   anaerobic(%)  intensive(%)  light(%)  \n",
              "0             2             7        50  \n",
              "1             2            29        88  \n",
              "2             0            22        43  \n",
              "3             0            24        65  \n",
              "4             5            21        88  \n",
              "\n",
              "[5 rows x 21 columns]"
            ],
            "text/html": [
              "\n",
              "  <div id=\"df-08cd05fa-4e11-40cc-a291-dfb90722f412\">\n",
              "    <div class=\"colab-df-container\">\n",
              "      <div>\n",
              "<style scoped>\n",
              "    .dataframe tbody tr th:only-of-type {\n",
              "        vertical-align: middle;\n",
              "    }\n",
              "\n",
              "    .dataframe tbody tr th {\n",
              "        vertical-align: top;\n",
              "    }\n",
              "\n",
              "    .dataframe thead th {\n",
              "        text-align: right;\n",
              "    }\n",
              "</style>\n",
              "<table border=\"1\" class=\"dataframe\">\n",
              "  <thead>\n",
              "    <tr style=\"text-align: right;\">\n",
              "      <th></th>\n",
              "      <th>Unnamed: 0</th>\n",
              "      <th>activity_day</th>\n",
              "      <th>workout_type</th>\n",
              "      <th>distance</th>\n",
              "      <th>time</th>\n",
              "      <th>calories</th>\n",
              "      <th>total_steps</th>\n",
              "      <th>avg_speed</th>\n",
              "      <th>avg_cadence</th>\n",
              "      <th>max_cadence</th>\n",
              "      <th>...</th>\n",
              "      <th>max_pace</th>\n",
              "      <th>min_pace</th>\n",
              "      <th>avg_heart_rate</th>\n",
              "      <th>max_heart_rate</th>\n",
              "      <th>min_heart_rate</th>\n",
              "      <th>vo2_max(%)</th>\n",
              "      <th>aerobic(%)</th>\n",
              "      <th>anaerobic(%)</th>\n",
              "      <th>intensive(%)</th>\n",
              "      <th>light(%)</th>\n",
              "    </tr>\n",
              "  </thead>\n",
              "  <tbody>\n",
              "    <tr>\n",
              "      <th>0</th>\n",
              "      <td>0</td>\n",
              "      <td>2022-01-01</td>\n",
              "      <td>Freestyle</td>\n",
              "      <td>9.30</td>\n",
              "      <td>77</td>\n",
              "      <td>123</td>\n",
              "      <td>NaN</td>\n",
              "      <td>18.88</td>\n",
              "      <td>168.54</td>\n",
              "      <td>138.30</td>\n",
              "      <td>...</td>\n",
              "      <td>NaN</td>\n",
              "      <td>NaN</td>\n",
              "      <td>112.5</td>\n",
              "      <td>122.0</td>\n",
              "      <td>103</td>\n",
              "      <td>19</td>\n",
              "      <td>28</td>\n",
              "      <td>2</td>\n",
              "      <td>7</td>\n",
              "      <td>50</td>\n",
              "    </tr>\n",
              "    <tr>\n",
              "      <th>1</th>\n",
              "      <td>1</td>\n",
              "      <td>2022-01-01</td>\n",
              "      <td>Freestyle</td>\n",
              "      <td>3.44</td>\n",
              "      <td>96</td>\n",
              "      <td>55</td>\n",
              "      <td>NaN</td>\n",
              "      <td>29.65</td>\n",
              "      <td>125.92</td>\n",
              "      <td>292.81</td>\n",
              "      <td>...</td>\n",
              "      <td>NaN</td>\n",
              "      <td>NaN</td>\n",
              "      <td>111.0</td>\n",
              "      <td>122.0</td>\n",
              "      <td>100</td>\n",
              "      <td>42</td>\n",
              "      <td>28</td>\n",
              "      <td>2</td>\n",
              "      <td>29</td>\n",
              "      <td>88</td>\n",
              "    </tr>\n",
              "    <tr>\n",
              "      <th>2</th>\n",
              "      <td>2</td>\n",
              "      <td>2022-01-01</td>\n",
              "      <td>Indoor Cycling</td>\n",
              "      <td>6.34</td>\n",
              "      <td>85</td>\n",
              "      <td>33</td>\n",
              "      <td>NaN</td>\n",
              "      <td>17.85</td>\n",
              "      <td>81.93</td>\n",
              "      <td>323.69</td>\n",
              "      <td>...</td>\n",
              "      <td>NaN</td>\n",
              "      <td>NaN</td>\n",
              "      <td>95.0</td>\n",
              "      <td>90.0</td>\n",
              "      <td>100</td>\n",
              "      <td>1</td>\n",
              "      <td>32</td>\n",
              "      <td>0</td>\n",
              "      <td>22</td>\n",
              "      <td>43</td>\n",
              "    </tr>\n",
              "    <tr>\n",
              "      <th>3</th>\n",
              "      <td>3</td>\n",
              "      <td>2022-01-01</td>\n",
              "      <td>Walking</td>\n",
              "      <td>7.91</td>\n",
              "      <td>42</td>\n",
              "      <td>82</td>\n",
              "      <td>1571.0</td>\n",
              "      <td>22.10</td>\n",
              "      <td>29.63</td>\n",
              "      <td>180.16</td>\n",
              "      <td>...</td>\n",
              "      <td>28:58</td>\n",
              "      <td>07:58</td>\n",
              "      <td>83.0</td>\n",
              "      <td>85.0</td>\n",
              "      <td>81</td>\n",
              "      <td>3</td>\n",
              "      <td>22</td>\n",
              "      <td>0</td>\n",
              "      <td>24</td>\n",
              "      <td>65</td>\n",
              "    </tr>\n",
              "    <tr>\n",
              "      <th>4</th>\n",
              "      <td>4</td>\n",
              "      <td>2022-01-01</td>\n",
              "      <td>Open Water</td>\n",
              "      <td>8.99</td>\n",
              "      <td>36</td>\n",
              "      <td>131</td>\n",
              "      <td>NaN</td>\n",
              "      <td>25.83</td>\n",
              "      <td>64.55</td>\n",
              "      <td>342.89</td>\n",
              "      <td>...</td>\n",
              "      <td>NaN</td>\n",
              "      <td>NaN</td>\n",
              "      <td>138.0</td>\n",
              "      <td>166.0</td>\n",
              "      <td>110</td>\n",
              "      <td>7</td>\n",
              "      <td>0</td>\n",
              "      <td>5</td>\n",
              "      <td>21</td>\n",
              "      <td>88</td>\n",
              "    </tr>\n",
              "  </tbody>\n",
              "</table>\n",
              "<p>5 rows × 21 columns</p>\n",
              "</div>\n",
              "      <button class=\"colab-df-convert\" onclick=\"convertToInteractive('df-08cd05fa-4e11-40cc-a291-dfb90722f412')\"\n",
              "              title=\"Convert this dataframe to an interactive table.\"\n",
              "              style=\"display:none;\">\n",
              "        \n",
              "  <svg xmlns=\"http://www.w3.org/2000/svg\" height=\"24px\"viewBox=\"0 0 24 24\"\n",
              "       width=\"24px\">\n",
              "    <path d=\"M0 0h24v24H0V0z\" fill=\"none\"/>\n",
              "    <path d=\"M18.56 5.44l.94 2.06.94-2.06 2.06-.94-2.06-.94-.94-2.06-.94 2.06-2.06.94zm-11 1L8.5 8.5l.94-2.06 2.06-.94-2.06-.94L8.5 2.5l-.94 2.06-2.06.94zm10 10l.94 2.06.94-2.06 2.06-.94-2.06-.94-.94-2.06-.94 2.06-2.06.94z\"/><path d=\"M17.41 7.96l-1.37-1.37c-.4-.4-.92-.59-1.43-.59-.52 0-1.04.2-1.43.59L10.3 9.45l-7.72 7.72c-.78.78-.78 2.05 0 2.83L4 21.41c.39.39.9.59 1.41.59.51 0 1.02-.2 1.41-.59l7.78-7.78 2.81-2.81c.8-.78.8-2.07 0-2.86zM5.41 20L4 18.59l7.72-7.72 1.47 1.35L5.41 20z\"/>\n",
              "  </svg>\n",
              "      </button>\n",
              "      \n",
              "  <style>\n",
              "    .colab-df-container {\n",
              "      display:flex;\n",
              "      flex-wrap:wrap;\n",
              "      gap: 12px;\n",
              "    }\n",
              "\n",
              "    .colab-df-convert {\n",
              "      background-color: #E8F0FE;\n",
              "      border: none;\n",
              "      border-radius: 50%;\n",
              "      cursor: pointer;\n",
              "      display: none;\n",
              "      fill: #1967D2;\n",
              "      height: 32px;\n",
              "      padding: 0 0 0 0;\n",
              "      width: 32px;\n",
              "    }\n",
              "\n",
              "    .colab-df-convert:hover {\n",
              "      background-color: #E2EBFA;\n",
              "      box-shadow: 0px 1px 2px rgba(60, 64, 67, 0.3), 0px 1px 3px 1px rgba(60, 64, 67, 0.15);\n",
              "      fill: #174EA6;\n",
              "    }\n",
              "\n",
              "    [theme=dark] .colab-df-convert {\n",
              "      background-color: #3B4455;\n",
              "      fill: #D2E3FC;\n",
              "    }\n",
              "\n",
              "    [theme=dark] .colab-df-convert:hover {\n",
              "      background-color: #434B5C;\n",
              "      box-shadow: 0px 1px 3px 1px rgba(0, 0, 0, 0.15);\n",
              "      filter: drop-shadow(0px 1px 2px rgba(0, 0, 0, 0.3));\n",
              "      fill: #FFFFFF;\n",
              "    }\n",
              "  </style>\n",
              "\n",
              "      <script>\n",
              "        const buttonEl =\n",
              "          document.querySelector('#df-08cd05fa-4e11-40cc-a291-dfb90722f412 button.colab-df-convert');\n",
              "        buttonEl.style.display =\n",
              "          google.colab.kernel.accessAllowed ? 'block' : 'none';\n",
              "\n",
              "        async function convertToInteractive(key) {\n",
              "          const element = document.querySelector('#df-08cd05fa-4e11-40cc-a291-dfb90722f412');\n",
              "          const dataTable =\n",
              "            await google.colab.kernel.invokeFunction('convertToInteractive',\n",
              "                                                     [key], {});\n",
              "          if (!dataTable) return;\n",
              "\n",
              "          const docLinkHtml = 'Like what you see? Visit the ' +\n",
              "            '<a target=\"_blank\" href=https://colab.research.google.com/notebooks/data_table.ipynb>data table notebook</a>'\n",
              "            + ' to learn more about interactive tables.';\n",
              "          element.innerHTML = '';\n",
              "          dataTable['output_type'] = 'display_data';\n",
              "          await google.colab.output.renderOutput(dataTable, element);\n",
              "          const docLink = document.createElement('div');\n",
              "          docLink.innerHTML = docLinkHtml;\n",
              "          element.appendChild(docLink);\n",
              "        }\n",
              "      </script>\n",
              "    </div>\n",
              "  </div>\n",
              "  "
            ]
          },
          "metadata": {},
          "execution_count": 1
        }
      ]
    },
    {
      "cell_type": "code",
      "source": [
        "df1=df.groupby('workout_type').calories.agg(['mean','std', 'count'])"
      ],
      "metadata": {
        "id": "qgOr4y2G_ko1"
      },
      "execution_count": 2,
      "outputs": []
    },
    {
      "cell_type": "code",
      "source": [
        "import numpy as np\n",
        "from scipy.stats import t\n",
        "\n",
        "def SE(std,n):\n",
        "  return std/np.sqrt(n)\n",
        "\n",
        "df1['SE'] = df1.apply(lambda x: SE(x['std'],x['count']), axis = 1)\n",
        "df1.loc[:,'95%'] = df1.loc[:,'SE']*t.ppf(.975,49)\n",
        "\n",
        "df1.plot.bar(y = 'mean',yerr = '95%', title = 'Graphed with 95% Confidence Interval' )"
      ],
      "metadata": {
        "colab": {
          "base_uri": "https://localhost:8080/",
          "height": 389
        },
        "id": "yp6dyJpIh8QT",
        "outputId": "2197adc7-b009-475c-a03a-340951dbf5c7"
      },
      "execution_count": 3,
      "outputs": [
        {
          "output_type": "execute_result",
          "data": {
            "text/plain": [
              "<matplotlib.axes._subplots.AxesSubplot at 0x7fdc448cd1d0>"
            ]
          },
          "metadata": {},
          "execution_count": 3
        },
        {
          "output_type": "display_data",
          "data": {
            "text/plain": [
              "<Figure size 432x288 with 1 Axes>"
            ],
            "image/png": "[encoded data removed]"
          },
          "metadata": {
            "needs_background": "light"
          }
        }
      ]
    }
  ]
}