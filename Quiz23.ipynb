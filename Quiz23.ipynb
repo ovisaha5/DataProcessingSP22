{
  "nbformat": 4,
  "nbformat_minor": 0,
  "metadata": {
    "colab": {
      "name": "Quiz23.ipynb",
      "provenance": [],
      "collapsed_sections": [],
      "authorship_tag": "ABX9TyPFZ3yL4ysMjBzUnASd0pYA",
      "include_colab_link": true
    },
    "kernelspec": {
      "name": "python3",
      "display_name": "Python 3"
    },
    "language_info": {
      "name": "python"
    }
  },
  "cells": [
    {
      "cell_type": "markdown",
      "metadata": {
        "id": "view-in-github",
        "colab_type": "text"
      },
      "source": [
        "<a href=\"https://colab.research.google.com/github/ovisaha5/DataProcessingSP22/blob/main/Quiz23.ipynb\" target=\"_parent\"><img src=\"https://colab.research.google.com/assets/colab-badge.svg\" alt=\"Open In Colab\"/></a>"
      ]
    },
    {
      "cell_type": "markdown",
      "source": [
        "###Quiz 23\n",
        "###Graphical Sophistication\n",
        "###Avijit Saha"
      ],
      "metadata": {
        "id": "6uOJ2L6b3ZYi"
      }
    },
    {
      "cell_type": "markdown",
      "source": [
        "[Primary Election](https://viz.wtf/image/664318320965795840)\n",
        "\n",
        "![Image](https://64.media.tumblr.com/a60ed91106885f5feadab8c5c5449544/tumblr_r0ixbf4h4E1sgh0voo1_1280.jpg)"
      ],
      "metadata": {
        "id": "LEr8__vk3n2V"
      }
    },
    {
      "cell_type": "markdown",
      "source": [
        "This plot has a pie chart which is describing the voting percentage. But first of all, I have noticed that 38% took almost half of the plot also 22% looks like more than 25% part of the pie chart. According to graphical excellence and integrity, a graph has excellence if it is clear, precise, and has a lot of data in a small place and how much graphically it is accurate. This graphic has some data about the election which is represented by a pie chart. The ratio in this picture is unmatched according to the data of the chart. Some portion of the chart looks too big to compare to the other portion. So it is showing a lie in this graphic also not sophisticated.\n",
        "\n"
      ],
      "metadata": {
        "id": "WhMTY7Q1-HnM"
      }
    },
    {
      "cell_type": "markdown",
      "source": [
        "[Red and Green](https://viz.wtf/image/662415701683978240)\n",
        "\n",
        "![Image](https://64.media.tumblr.com/d8bcf748d564125312aeba4001b96df5/tumblr_qzg4n3nfJY1sgh0voo1_640.jpg)"
      ],
      "metadata": {
        "id": "q7s72Gr247O1"
      }
    },
    {
      "cell_type": "markdown",
      "source": [
        "This is an example of a graph that how sometimes media misguide people. The work on this graph is an unprofessional work example. First of all the difference between yes and no is just one according to the data. But how only one can go 53 votes and 517 votes. Again where the ratio of the pie chart(the green part) shows more for only 53 votes than the red part which has 517 votes. So, this graph has lacked graphical excellency, failed to describe the data by its visualization, lying according to the integrity, and also a proper example of unsophisticated graphics."
      ],
      "metadata": {
        "id": "t8JyMlnk5kgg"
      }
    }
  ]
}