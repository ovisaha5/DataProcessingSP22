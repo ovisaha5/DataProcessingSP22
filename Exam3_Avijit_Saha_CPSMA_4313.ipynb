{
  "nbformat": 4,
  "nbformat_minor": 0,
  "metadata": {
    "colab": {
      "name": "Exam3_Avijit_Saha_CPSMA_4313.ipynb",
      "provenance": [],
      "collapsed_sections": [],
      "authorship_tag": "ABX9TyPX5RnL5tapTbaGOC35/QNM",
      "include_colab_link": true
    },
    "kernelspec": {
      "name": "python3",
      "display_name": "Python 3"
    },
    "language_info": {
      "name": "python"
    }
  },
  "cells": [
    {
      "cell_type": "markdown",
      "metadata": {
        "id": "view-in-github",
        "colab_type": "text"
      },
      "source": [
        "<a href=\"https://colab.research.google.com/github/ovisaha5/DataProcessingSP22/blob/main/Exam3_Avijit_Saha_CPSMA_4313.ipynb\" target=\"_parent\"><img src=\"https://colab.research.google.com/assets/colab-badge.svg\" alt=\"Open In Colab\"/></a>"
      ]
    },
    {
      "cell_type": "markdown",
      "source": [
        "#Exam 3\n",
        "##Avijit Saha\n",
        "##Data Processing Visualization-CPSMA 4313"
      ],
      "metadata": {
        "id": "LFgOwKUuxoHJ"
      }
    },
    {
      "cell_type": "markdown",
      "source": [
        "**References:**\n",
        "\n",
        "1. From my quiz/homework page in github; https://github.com/ovisaha5/DataProcessingSP22\n",
        "\n",
        "2. Dr. Nicholas Jacob lectures in github; https://github.com/nurfnick/Data_Viz\n",
        "\n",
        "3. wellsr.com https://wellsr.com/python/python-create-histogram-from-pandas-dataframe/\n",
        "\n",
        "4. NY times https://www.nytimes.com/2021/07/10/sports/soccer/lionel-messi-argentina-brazil-copa-america.html\n",
        "\n",
        "5. Stack Overflow https://stackoverflow.com/questions/23415500/pandas-plotting-a-stacked-bar-chart\n",
        "\n",
        "“I attest that the resources above were the only ones utilized in completing\n",
        "the exam and the work included is my own and no one else from the course.”"
      ],
      "metadata": {
        "id": "nHKS71qlySji"
      }
    },
    {
      "cell_type": "markdown",
      "source": [
        "###Importing libraries"
      ],
      "metadata": {
        "id": "KOwWl7ct3bzR"
      }
    },
    {
      "cell_type": "code",
      "source": [
        "import numpy as np \n",
        "import pandas as pa\n",
        "import seaborn as sns\n",
        "import matplotlib.pyplot as plt\n",
        "from scipy import stats"
      ],
      "metadata": {
        "id": "TvMBCutgy3a_"
      },
      "execution_count": 72,
      "outputs": []
    },
    {
      "cell_type": "markdown",
      "source": [
        "#Question 1"
      ],
      "metadata": {
        "id": "Zg2EQR9q3i57"
      }
    },
    {
      "cell_type": "markdown",
      "source": [
        "####a. Store the data as a pandas dataframe. Find your favorite ‘club’ or ‘nationality’ (that is present in the data!), include a picture that represents them and include it in your notebook."
      ],
      "metadata": {
        "id": "IDP5UBgW3u9N"
      }
    },
    {
      "cell_type": "code",
      "source": [
        "df = pa.read_csv('https://raw.githubusercontent.com/nurfnick/Data_Viz/main/worldCupPlayer.csv') #storing the data\n",
        "df"
      ],
      "metadata": {
        "colab": {
          "base_uri": "https://localhost:8080/",
          "height": 555
        },
        "id": "DXFRekV_zfpo",
        "outputId": "4095d547-c14e-4c5b-dbcd-165bee588d7d"
      },
      "execution_count": 73,
      "outputs": [
        {
          "output_type": "execute_result",
          "data": {
            "text/plain": [
              "     Unnamed: 0  Rank                player           club  age   Apps  Mins  \\\n",
              "0             0     1          Hakim Ziyech           Ajax   25     34  3043   \n",
              "1             2     2   Alireza Jahanbakhsh     AZ Alkmaar   24     33  2840   \n",
              "2             4     3        Hirving Lozano  PSV Eindhoven   22     29  2350   \n",
              "3             6    11          Lasse Schone           Ajax   32  27(3)  2350   \n",
              "4            10    25        Santiago Arias  PSV Eindhoven   26     30  2664   \n",
              "..          ...   ...                   ...            ...  ...    ...   ...   \n",
              "598        1150   200    Giancarlo Gonzalez        Bologna   30     22  1858   \n",
              "599        1152   217  Stephan Lichtsteiner       Juventus   34  21(6)  1715   \n",
              "600        1154   235        Dawid Kownacki      Sampdoria   21  6(16)   811   \n",
              "601        1156   265     Emil Hallfredsson        Udinese   33  8(11)   761   \n",
              "602        1158   269         Marcus Rohden        Crotone   27  20(6)  1637   \n",
              "\n",
              "     Goals  Assists  Yel  Red  SpG    PS AerialsWon  MotM  Rating  nationality  \n",
              "0        9       15    4    0  4.9  75.4        0.2     9    8.21      Morocco  \n",
              "1       21       12    3    0  4.3  73.4        0.7    14    8.20         Iran  \n",
              "2       17        8    4    2  3.4  75.3        0.6     8    7.90       Mexico  \n",
              "3       10        3    6    0  1.9  87.0        1.9     2    7.45      Denmark  \n",
              "4        3        6    5    0  1.5  82.3          1     2    7.25     Colombia  \n",
              "..     ...      ...  ...  ...  ...   ...        ...   ...     ...          ...  \n",
              "598      0        0    4    2    -  80.6        2.4     0    6.63   Costa Rica  \n",
              "599      0        2    6    0  0.1  82.2        0.9     0    6.59  Switzerland  \n",
              "600      5        1    0    0    1  75.4        1.4     0    6.51       Poland  \n",
              "601      0        0    5    0  0.1  88.5        0.6     0    6.39      Iceland  \n",
              "602      2        0    2    0  0.8  67.6        0.8     0    6.35       Sweden  \n",
              "\n",
              "[603 rows x 17 columns]"
            ],
            "text/html": [
              "\n",
              "  <div id=\"df-422dffbf-65dd-4dae-b979-ba398b65e5d9\">\n",
              "    <div class=\"colab-df-container\">\n",
              "      <div>\n",
              "<style scoped>\n",
              "    .dataframe tbody tr th:only-of-type {\n",
              "        vertical-align: middle;\n",
              "    }\n",
              "\n",
              "    .dataframe tbody tr th {\n",
              "        vertical-align: top;\n",
              "    }\n",
              "\n",
              "    .dataframe thead th {\n",
              "        text-align: right;\n",
              "    }\n",
              "</style>\n",
              "<table border=\"1\" class=\"dataframe\">\n",
              "  <thead>\n",
              "    <tr style=\"text-align: right;\">\n",
              "      <th></th>\n",
              "      <th>Unnamed: 0</th>\n",
              "      <th>Rank</th>\n",
              "      <th>player</th>\n",
              "      <th>club</th>\n",
              "      <th>age</th>\n",
              "      <th>Apps</th>\n",
              "      <th>Mins</th>\n",
              "      <th>Goals</th>\n",
              "      <th>Assists</th>\n",
              "      <th>Yel</th>\n",
              "      <th>Red</th>\n",
              "      <th>SpG</th>\n",
              "      <th>PS</th>\n",
              "      <th>AerialsWon</th>\n",
              "      <th>MotM</th>\n",
              "      <th>Rating</th>\n",
              "      <th>nationality</th>\n",
              "    </tr>\n",
              "  </thead>\n",
              "  <tbody>\n",
              "    <tr>\n",
              "      <th>0</th>\n",
              "      <td>0</td>\n",
              "      <td>1</td>\n",
              "      <td>Hakim Ziyech</td>\n",
              "      <td>Ajax</td>\n",
              "      <td>25</td>\n",
              "      <td>34</td>\n",
              "      <td>3043</td>\n",
              "      <td>9</td>\n",
              "      <td>15</td>\n",
              "      <td>4</td>\n",
              "      <td>0</td>\n",
              "      <td>4.9</td>\n",
              "      <td>75.4</td>\n",
              "      <td>0.2</td>\n",
              "      <td>9</td>\n",
              "      <td>8.21</td>\n",
              "      <td>Morocco</td>\n",
              "    </tr>\n",
              "    <tr>\n",
              "      <th>1</th>\n",
              "      <td>2</td>\n",
              "      <td>2</td>\n",
              "      <td>Alireza Jahanbakhsh</td>\n",
              "      <td>AZ Alkmaar</td>\n",
              "      <td>24</td>\n",
              "      <td>33</td>\n",
              "      <td>2840</td>\n",
              "      <td>21</td>\n",
              "      <td>12</td>\n",
              "      <td>3</td>\n",
              "      <td>0</td>\n",
              "      <td>4.3</td>\n",
              "      <td>73.4</td>\n",
              "      <td>0.7</td>\n",
              "      <td>14</td>\n",
              "      <td>8.20</td>\n",
              "      <td>Iran</td>\n",
              "    </tr>\n",
              "    <tr>\n",
              "      <th>2</th>\n",
              "      <td>4</td>\n",
              "      <td>3</td>\n",
              "      <td>Hirving Lozano</td>\n",
              "      <td>PSV Eindhoven</td>\n",
              "      <td>22</td>\n",
              "      <td>29</td>\n",
              "      <td>2350</td>\n",
              "      <td>17</td>\n",
              "      <td>8</td>\n",
              "      <td>4</td>\n",
              "      <td>2</td>\n",
              "      <td>3.4</td>\n",
              "      <td>75.3</td>\n",
              "      <td>0.6</td>\n",
              "      <td>8</td>\n",
              "      <td>7.90</td>\n",
              "      <td>Mexico</td>\n",
              "    </tr>\n",
              "    <tr>\n",
              "      <th>3</th>\n",
              "      <td>6</td>\n",
              "      <td>11</td>\n",
              "      <td>Lasse Schone</td>\n",
              "      <td>Ajax</td>\n",
              "      <td>32</td>\n",
              "      <td>27(3)</td>\n",
              "      <td>2350</td>\n",
              "      <td>10</td>\n",
              "      <td>3</td>\n",
              "      <td>6</td>\n",
              "      <td>0</td>\n",
              "      <td>1.9</td>\n",
              "      <td>87.0</td>\n",
              "      <td>1.9</td>\n",
              "      <td>2</td>\n",
              "      <td>7.45</td>\n",
              "      <td>Denmark</td>\n",
              "    </tr>\n",
              "    <tr>\n",
              "      <th>4</th>\n",
              "      <td>10</td>\n",
              "      <td>25</td>\n",
              "      <td>Santiago Arias</td>\n",
              "      <td>PSV Eindhoven</td>\n",
              "      <td>26</td>\n",
              "      <td>30</td>\n",
              "      <td>2664</td>\n",
              "      <td>3</td>\n",
              "      <td>6</td>\n",
              "      <td>5</td>\n",
              "      <td>0</td>\n",
              "      <td>1.5</td>\n",
              "      <td>82.3</td>\n",
              "      <td>1</td>\n",
              "      <td>2</td>\n",
              "      <td>7.25</td>\n",
              "      <td>Colombia</td>\n",
              "    </tr>\n",
              "    <tr>\n",
              "      <th>...</th>\n",
              "      <td>...</td>\n",
              "      <td>...</td>\n",
              "      <td>...</td>\n",
              "      <td>...</td>\n",
              "      <td>...</td>\n",
              "      <td>...</td>\n",
              "      <td>...</td>\n",
              "      <td>...</td>\n",
              "      <td>...</td>\n",
              "      <td>...</td>\n",
              "      <td>...</td>\n",
              "      <td>...</td>\n",
              "      <td>...</td>\n",
              "      <td>...</td>\n",
              "      <td>...</td>\n",
              "      <td>...</td>\n",
              "      <td>...</td>\n",
              "    </tr>\n",
              "    <tr>\n",
              "      <th>598</th>\n",
              "      <td>1150</td>\n",
              "      <td>200</td>\n",
              "      <td>Giancarlo Gonzalez</td>\n",
              "      <td>Bologna</td>\n",
              "      <td>30</td>\n",
              "      <td>22</td>\n",
              "      <td>1858</td>\n",
              "      <td>0</td>\n",
              "      <td>0</td>\n",
              "      <td>4</td>\n",
              "      <td>2</td>\n",
              "      <td>-</td>\n",
              "      <td>80.6</td>\n",
              "      <td>2.4</td>\n",
              "      <td>0</td>\n",
              "      <td>6.63</td>\n",
              "      <td>Costa Rica</td>\n",
              "    </tr>\n",
              "    <tr>\n",
              "      <th>599</th>\n",
              "      <td>1152</td>\n",
              "      <td>217</td>\n",
              "      <td>Stephan Lichtsteiner</td>\n",
              "      <td>Juventus</td>\n",
              "      <td>34</td>\n",
              "      <td>21(6)</td>\n",
              "      <td>1715</td>\n",
              "      <td>0</td>\n",
              "      <td>2</td>\n",
              "      <td>6</td>\n",
              "      <td>0</td>\n",
              "      <td>0.1</td>\n",
              "      <td>82.2</td>\n",
              "      <td>0.9</td>\n",
              "      <td>0</td>\n",
              "      <td>6.59</td>\n",
              "      <td>Switzerland</td>\n",
              "    </tr>\n",
              "    <tr>\n",
              "      <th>600</th>\n",
              "      <td>1154</td>\n",
              "      <td>235</td>\n",
              "      <td>Dawid Kownacki</td>\n",
              "      <td>Sampdoria</td>\n",
              "      <td>21</td>\n",
              "      <td>6(16)</td>\n",
              "      <td>811</td>\n",
              "      <td>5</td>\n",
              "      <td>1</td>\n",
              "      <td>0</td>\n",
              "      <td>0</td>\n",
              "      <td>1</td>\n",
              "      <td>75.4</td>\n",
              "      <td>1.4</td>\n",
              "      <td>0</td>\n",
              "      <td>6.51</td>\n",
              "      <td>Poland</td>\n",
              "    </tr>\n",
              "    <tr>\n",
              "      <th>601</th>\n",
              "      <td>1156</td>\n",
              "      <td>265</td>\n",
              "      <td>Emil Hallfredsson</td>\n",
              "      <td>Udinese</td>\n",
              "      <td>33</td>\n",
              "      <td>8(11)</td>\n",
              "      <td>761</td>\n",
              "      <td>0</td>\n",
              "      <td>0</td>\n",
              "      <td>5</td>\n",
              "      <td>0</td>\n",
              "      <td>0.1</td>\n",
              "      <td>88.5</td>\n",
              "      <td>0.6</td>\n",
              "      <td>0</td>\n",
              "      <td>6.39</td>\n",
              "      <td>Iceland</td>\n",
              "    </tr>\n",
              "    <tr>\n",
              "      <th>602</th>\n",
              "      <td>1158</td>\n",
              "      <td>269</td>\n",
              "      <td>Marcus Rohden</td>\n",
              "      <td>Crotone</td>\n",
              "      <td>27</td>\n",
              "      <td>20(6)</td>\n",
              "      <td>1637</td>\n",
              "      <td>2</td>\n",
              "      <td>0</td>\n",
              "      <td>2</td>\n",
              "      <td>0</td>\n",
              "      <td>0.8</td>\n",
              "      <td>67.6</td>\n",
              "      <td>0.8</td>\n",
              "      <td>0</td>\n",
              "      <td>6.35</td>\n",
              "      <td>Sweden</td>\n",
              "    </tr>\n",
              "  </tbody>\n",
              "</table>\n",
              "<p>603 rows × 17 columns</p>\n",
              "</div>\n",
              "      <button class=\"colab-df-convert\" onclick=\"convertToInteractive('df-422dffbf-65dd-4dae-b979-ba398b65e5d9')\"\n",
              "              title=\"Convert this dataframe to an interactive table.\"\n",
              "              style=\"display:none;\">\n",
              "        \n",
              "  <svg xmlns=\"http://www.w3.org/2000/svg\" height=\"24px\"viewBox=\"0 0 24 24\"\n",
              "       width=\"24px\">\n",
              "    <path d=\"M0 0h24v24H0V0z\" fill=\"none\"/>\n",
              "    <path d=\"M18.56 5.44l.94 2.06.94-2.06 2.06-.94-2.06-.94-.94-2.06-.94 2.06-2.06.94zm-11 1L8.5 8.5l.94-2.06 2.06-.94-2.06-.94L8.5 2.5l-.94 2.06-2.06.94zm10 10l.94 2.06.94-2.06 2.06-.94-2.06-.94-.94-2.06-.94 2.06-2.06.94z\"/><path d=\"M17.41 7.96l-1.37-1.37c-.4-.4-.92-.59-1.43-.59-.52 0-1.04.2-1.43.59L10.3 9.45l-7.72 7.72c-.78.78-.78 2.05 0 2.83L4 21.41c.39.39.9.59 1.41.59.51 0 1.02-.2 1.41-.59l7.78-7.78 2.81-2.81c.8-.78.8-2.07 0-2.86zM5.41 20L4 18.59l7.72-7.72 1.47 1.35L5.41 20z\"/>\n",
              "  </svg>\n",
              "      </button>\n",
              "      \n",
              "  <style>\n",
              "    .colab-df-container {\n",
              "      display:flex;\n",
              "      flex-wrap:wrap;\n",
              "      gap: 12px;\n",
              "    }\n",
              "\n",
              "    .colab-df-convert {\n",
              "      background-color: #E8F0FE;\n",
              "      border: none;\n",
              "      border-radius: 50%;\n",
              "      cursor: pointer;\n",
              "      display: none;\n",
              "      fill: #1967D2;\n",
              "      height: 32px;\n",
              "      padding: 0 0 0 0;\n",
              "      width: 32px;\n",
              "    }\n",
              "\n",
              "    .colab-df-convert:hover {\n",
              "      background-color: #E2EBFA;\n",
              "      box-shadow: 0px 1px 2px rgba(60, 64, 67, 0.3), 0px 1px 3px 1px rgba(60, 64, 67, 0.15);\n",
              "      fill: #174EA6;\n",
              "    }\n",
              "\n",
              "    [theme=dark] .colab-df-convert {\n",
              "      background-color: #3B4455;\n",
              "      fill: #D2E3FC;\n",
              "    }\n",
              "\n",
              "    [theme=dark] .colab-df-convert:hover {\n",
              "      background-color: #434B5C;\n",
              "      box-shadow: 0px 1px 3px 1px rgba(0, 0, 0, 0.15);\n",
              "      filter: drop-shadow(0px 1px 2px rgba(0, 0, 0, 0.3));\n",
              "      fill: #FFFFFF;\n",
              "    }\n",
              "  </style>\n",
              "\n",
              "      <script>\n",
              "        const buttonEl =\n",
              "          document.querySelector('#df-422dffbf-65dd-4dae-b979-ba398b65e5d9 button.colab-df-convert');\n",
              "        buttonEl.style.display =\n",
              "          google.colab.kernel.accessAllowed ? 'block' : 'none';\n",
              "\n",
              "        async function convertToInteractive(key) {\n",
              "          const element = document.querySelector('#df-422dffbf-65dd-4dae-b979-ba398b65e5d9');\n",
              "          const dataTable =\n",
              "            await google.colab.kernel.invokeFunction('convertToInteractive',\n",
              "                                                     [key], {});\n",
              "          if (!dataTable) return;\n",
              "\n",
              "          const docLinkHtml = 'Like what you see? Visit the ' +\n",
              "            '<a target=\"_blank\" href=https://colab.research.google.com/notebooks/data_table.ipynb>data table notebook</a>'\n",
              "            + ' to learn more about interactive tables.';\n",
              "          element.innerHTML = '';\n",
              "          dataTable['output_type'] = 'display_data';\n",
              "          await google.colab.output.renderOutput(dataTable, element);\n",
              "          const docLink = document.createElement('div');\n",
              "          docLink.innerHTML = docLinkHtml;\n",
              "          element.appendChild(docLink);\n",
              "        }\n",
              "      </script>\n",
              "    </div>\n",
              "  </div>\n",
              "  "
            ]
          },
          "metadata": {},
          "execution_count": 73
        }
      ]
    },
    {
      "cell_type": "markdown",
      "source": [
        "#####I am choosing nationality Argentina"
      ],
      "metadata": {
        "id": "lNSHdzjCAc4x"
      }
    },
    {
      "cell_type": "code",
      "source": [
        "df.nationality.unique() #Showing the list of the nationality as an array where we can see Argentina"
      ],
      "metadata": {
        "colab": {
          "base_uri": "https://localhost:8080/"
        },
        "id": "AE6msVU54EDw",
        "outputId": "a9c919a8-466e-490d-9262-d2a67aecf13e"
      },
      "execution_count": 50,
      "outputs": [
        {
          "output_type": "execute_result",
          "data": {
            "text/plain": [
              "array(['Morocco', 'Iran', 'Mexico', 'Denmark', 'Colombia', 'Nigeria',\n",
              "       'Serbia', 'Australia', 'Sweden', 'Costa Rica', 'Iceland', 'Poland',\n",
              "       'Portugal', 'France', 'Germany', 'Switzerland', 'Belgium',\n",
              "       'Argentina', 'Russia', 'England', 'Spain', 'Japan', 'Brazil',\n",
              "       'Uruguay', 'Croatia', 'Peru', 'Egypt', 'Tunisia', 'Senegal'],\n",
              "      dtype=object)"
            ]
          },
          "metadata": {},
          "execution_count": 50
        }
      ]
    },
    {
      "cell_type": "code",
      "source": [
        "if [df[\"nationality\"].str.find('Argentina')]: #finnding nationality \"Argentina\" with a conditional statement\n",
        "  print (\"yes\")"
      ],
      "metadata": {
        "colab": {
          "base_uri": "https://localhost:8080/"
        },
        "id": "6l95QAZd8BlY",
        "outputId": "697f411d-08f5-453e-a0c6-0245f8256c4a"
      },
      "execution_count": 51,
      "outputs": [
        {
          "output_type": "stream",
          "name": "stdout",
          "text": [
            "yes\n"
          ]
        }
      ]
    },
    {
      "cell_type": "markdown",
      "source": [
        "![Argentina Copa](https://static01.nyt.com/images/2021/07/10/sports/10copa6/merlin_190669893_1c01a994-65b9-41a9-8be9-75a22e7ed6c9-superJumbo.jpg?quality=75&auto=webp)"
      ],
      "metadata": {
        "id": "cdCHtHJHALPR"
      }
    },
    {
      "cell_type": "markdown",
      "source": [
        "####b. Show a table with all the data about your favorite club or nationality. Include some description about an interesting fact in the data"
      ],
      "metadata": {
        "id": "VMX4xw4-AtyS"
      }
    },
    {
      "cell_type": "code",
      "source": [
        "df.loc[df.nationality==\"Argentina\"]"
      ],
      "metadata": {
        "colab": {
          "base_uri": "https://localhost:8080/",
          "height": 1000
        },
        "id": "6q0J2dD5xObV",
        "outputId": "3bdd0a4b-0df4-4ef0-d4d1-ebf2b793e381"
      },
      "execution_count": 74,
      "outputs": [
        {
          "output_type": "execute_result",
          "data": {
            "text/plain": [
              "     Unnamed: 0  Rank            player                 club  age   Apps  \\\n",
              "49           94    36      Lucas Biglia             AC Milan   32      5   \n",
              "50           96    95      Lucas Biglia             AC Milan   32  24(4)   \n",
              "114         221   216      Marcos Acuna          Sporting CP   26   4(2)   \n",
              "115         223    28      Marcos Acuna          Sporting CP   26  27(4)   \n",
              "116         225   235      Marcos Acuna          Sporting CP   26      5   \n",
              "194         381     1      Lionel Messi            Barcelona   30  32(4)   \n",
              "195         382     6      Lionel Messi            Barcelona   30   8(2)   \n",
              "222         428    42       Ever Banega              Sevilla   29  25(6)   \n",
              "223         430    15       Ever Banega              Sevilla   29      9   \n",
              "248         480   129   Gabriel Mercado              Sevilla   31  25(1)   \n",
              "249         482   333   Gabriel Mercado              Sevilla   31      8   \n",
              "272         528     5    Cristian Pavon         Boca Juniors   22     26   \n",
              "275         532    21  Maximiliano Meza        Independiente   26  17(2)   \n",
              "277         536    64     Franco Armani          River Plate   31     14   \n",
              "363         698    13    Angel Di Maria  Paris Saint Germain   30  26(4)   \n",
              "364         700   312    Angel Di Maria  Paris Saint Germain   30   1(4)   \n",
              "406         784     1     Sergio Aguero      Manchester City   30  22(3)   \n",
              "407         785   109     Sergio Aguero      Manchester City   30   5(2)   \n",
              "442         844    33  Nicolas Otamendi      Manchester City   30  33(1)   \n",
              "443         846    49  Nicolas Otamendi      Manchester City   30      8   \n",
              "454         868    55    Manuel Lanzini             West Ham   25  23(4)   \n",
              "550        1056    56   Gonzalo Higuain             Juventus   30   9(1)   \n",
              "551        1058    19   Gonzalo Higuain             Juventus   30  32(3)   \n",
              "556        1068    98    Federico Fazio                 Roma   31  10(1)   \n",
              "557        1070    18    Federico Fazio                 Roma   31  32(2)   \n",
              "565        1085   181      Paulo Dybala             Juventus   24      8   \n",
              "566        1087     1      Paulo Dybala             Juventus   24  26(7)   \n",
              "587        1128    81  Cristian Ansaldi               Torino   31  20(5)   \n",
              "\n",
              "     Mins  Goals  Assists  Yel  Red  SpG    PS AerialsWon  MotM  Rating  \\\n",
              "49    450      0        0    0    0  0.6  89.9        1.6     0    7.43   \n",
              "50   2043      1        1    5    0  0.8  91.0        0.8     1    6.88   \n",
              "114   404      0        0    0    0    2  72.2        0.7     1    6.97   \n",
              "115  2296      4        5    7    0  1.5  76.5        0.6     3    7.19   \n",
              "116   433      0        1    2    0    -  71.3        0.8     0    6.74   \n",
              "194  2997     34       12    3    0  5.5  81.2        0.2    22    8.68   \n",
              "195   783      6        2    2    0  4.4  81.5        0.2     6    8.03   \n",
              "222  2397      3        3    9    1  1.2  86.8        0.4     0    7.08   \n",
              "223   792      1        2    4    0  1.2  87.6        0.3     2    7.72   \n",
              "248  2124      0        1    9    0  0.7  83.1        1.6     1    6.80   \n",
              "249   692      0        0    3    0  0.3  79.0          1     0    6.49   \n",
              "272  2283      6       11    3    0  2.5  74.0        0.7     5    7.57   \n",
              "275  1539      3        4    1    0  2.5  76.5        2.1     0    7.30   \n",
              "277  1260      0        0    0    0    -  62.3        0.4     0    7.11   \n",
              "363  2122     11        6    1    0  3.2  79.4          -     3    7.37   \n",
              "364   143      1        1    0    0  1.4  76.2          -     0    6.55   \n",
              "406  1969     21        6    2    0  3.8  82.8        0.4     4    7.81   \n",
              "407   440      4        1    0    0  3.4  77.2        0.3     0    7.05   \n",
              "442  2968      4        0    9    0  0.9  91.9        2.3     5    7.13   \n",
              "443   720      1        0    2    0  0.6  92.6        3.3     0    7.28   \n",
              "454  2049      5        6    4    0  1.6  87.6        0.1     2    7.04   \n",
              "550   831      5        1    1    0  2.4  78.5        0.5     2    7.24   \n",
              "551  2818     16        6    4    0  2.9  80.4        0.3     5    7.25   \n",
              "556   922      0        1    2    0  0.5  85.5        2.9     0    7.07   \n",
              "557  2920      2        0    6    0  0.5  84.4        4.4     5    7.26   \n",
              "565   661      1        0    0    1  4.1  87.7        0.1     0    6.86   \n",
              "566  2358     22        5    0    0  3.5  87.3        0.2     8    7.77   \n",
              "587  1868      1        3    5    1  0.7  74.4        0.2     1    6.92   \n",
              "\n",
              "    nationality  \n",
              "49    Argentina  \n",
              "50    Argentina  \n",
              "114   Argentina  \n",
              "115   Argentina  \n",
              "116   Argentina  \n",
              "194   Argentina  \n",
              "195   Argentina  \n",
              "222   Argentina  \n",
              "223   Argentina  \n",
              "248   Argentina  \n",
              "249   Argentina  \n",
              "272   Argentina  \n",
              "275   Argentina  \n",
              "277   Argentina  \n",
              "363   Argentina  \n",
              "364   Argentina  \n",
              "406   Argentina  \n",
              "407   Argentina  \n",
              "442   Argentina  \n",
              "443   Argentina  \n",
              "454   Argentina  \n",
              "550   Argentina  \n",
              "551   Argentina  \n",
              "556   Argentina  \n",
              "557   Argentina  \n",
              "565   Argentina  \n",
              "566   Argentina  \n",
              "587   Argentina  "
            ],
            "text/html": [
              "\n",
              "  <div id=\"df-b9d8c515-c077-4681-885c-dd1f0493c9cf\">\n",
              "    <div class=\"colab-df-container\">\n",
              "      <div>\n",
              "<style scoped>\n",
              "    .dataframe tbody tr th:only-of-type {\n",
              "        vertical-align: middle;\n",
              "    }\n",
              "\n",
              "    .dataframe tbody tr th {\n",
              "        vertical-align: top;\n",
              "    }\n",
              "\n",
              "    .dataframe thead th {\n",
              "        text-align: right;\n",
              "    }\n",
              "</style>\n",
              "<table border=\"1\" class=\"dataframe\">\n",
              "  <thead>\n",
              "    <tr style=\"text-align: right;\">\n",
              "      <th></th>\n",
              "      <th>Unnamed: 0</th>\n",
              "      <th>Rank</th>\n",
              "      <th>player</th>\n",
              "      <th>club</th>\n",
              "      <th>age</th>\n",
              "      <th>Apps</th>\n",
              "      <th>Mins</th>\n",
              "      <th>Goals</th>\n",
              "      <th>Assists</th>\n",
              "      <th>Yel</th>\n",
              "      <th>Red</th>\n",
              "      <th>SpG</th>\n",
              "      <th>PS</th>\n",
              "      <th>AerialsWon</th>\n",
              "      <th>MotM</th>\n",
              "      <th>Rating</th>\n",
              "      <th>nationality</th>\n",
              "    </tr>\n",
              "  </thead>\n",
              "  <tbody>\n",
              "    <tr>\n",
              "      <th>49</th>\n",
              "      <td>94</td>\n",
              "      <td>36</td>\n",
              "      <td>Lucas Biglia</td>\n",
              "      <td>AC Milan</td>\n",
              "      <td>32</td>\n",
              "      <td>5</td>\n",
              "      <td>450</td>\n",
              "      <td>0</td>\n",
              "      <td>0</td>\n",
              "      <td>0</td>\n",
              "      <td>0</td>\n",
              "      <td>0.6</td>\n",
              "      <td>89.9</td>\n",
              "      <td>1.6</td>\n",
              "      <td>0</td>\n",
              "      <td>7.43</td>\n",
              "      <td>Argentina</td>\n",
              "    </tr>\n",
              "    <tr>\n",
              "      <th>50</th>\n",
              "      <td>96</td>\n",
              "      <td>95</td>\n",
              "      <td>Lucas Biglia</td>\n",
              "      <td>AC Milan</td>\n",
              "      <td>32</td>\n",
              "      <td>24(4)</td>\n",
              "      <td>2043</td>\n",
              "      <td>1</td>\n",
              "      <td>1</td>\n",
              "      <td>5</td>\n",
              "      <td>0</td>\n",
              "      <td>0.8</td>\n",
              "      <td>91.0</td>\n",
              "      <td>0.8</td>\n",
              "      <td>1</td>\n",
              "      <td>6.88</td>\n",
              "      <td>Argentina</td>\n",
              "    </tr>\n",
              "    <tr>\n",
              "      <th>114</th>\n",
              "      <td>221</td>\n",
              "      <td>216</td>\n",
              "      <td>Marcos Acuna</td>\n",
              "      <td>Sporting CP</td>\n",
              "      <td>26</td>\n",
              "      <td>4(2)</td>\n",
              "      <td>404</td>\n",
              "      <td>0</td>\n",
              "      <td>0</td>\n",
              "      <td>0</td>\n",
              "      <td>0</td>\n",
              "      <td>2</td>\n",
              "      <td>72.2</td>\n",
              "      <td>0.7</td>\n",
              "      <td>1</td>\n",
              "      <td>6.97</td>\n",
              "      <td>Argentina</td>\n",
              "    </tr>\n",
              "    <tr>\n",
              "      <th>115</th>\n",
              "      <td>223</td>\n",
              "      <td>28</td>\n",
              "      <td>Marcos Acuna</td>\n",
              "      <td>Sporting CP</td>\n",
              "      <td>26</td>\n",
              "      <td>27(4)</td>\n",
              "      <td>2296</td>\n",
              "      <td>4</td>\n",
              "      <td>5</td>\n",
              "      <td>7</td>\n",
              "      <td>0</td>\n",
              "      <td>1.5</td>\n",
              "      <td>76.5</td>\n",
              "      <td>0.6</td>\n",
              "      <td>3</td>\n",
              "      <td>7.19</td>\n",
              "      <td>Argentina</td>\n",
              "    </tr>\n",
              "    <tr>\n",
              "      <th>116</th>\n",
              "      <td>225</td>\n",
              "      <td>235</td>\n",
              "      <td>Marcos Acuna</td>\n",
              "      <td>Sporting CP</td>\n",
              "      <td>26</td>\n",
              "      <td>5</td>\n",
              "      <td>433</td>\n",
              "      <td>0</td>\n",
              "      <td>1</td>\n",
              "      <td>2</td>\n",
              "      <td>0</td>\n",
              "      <td>-</td>\n",
              "      <td>71.3</td>\n",
              "      <td>0.8</td>\n",
              "      <td>0</td>\n",
              "      <td>6.74</td>\n",
              "      <td>Argentina</td>\n",
              "    </tr>\n",
              "    <tr>\n",
              "      <th>194</th>\n",
              "      <td>381</td>\n",
              "      <td>1</td>\n",
              "      <td>Lionel Messi</td>\n",
              "      <td>Barcelona</td>\n",
              "      <td>30</td>\n",
              "      <td>32(4)</td>\n",
              "      <td>2997</td>\n",
              "      <td>34</td>\n",
              "      <td>12</td>\n",
              "      <td>3</td>\n",
              "      <td>0</td>\n",
              "      <td>5.5</td>\n",
              "      <td>81.2</td>\n",
              "      <td>0.2</td>\n",
              "      <td>22</td>\n",
              "      <td>8.68</td>\n",
              "      <td>Argentina</td>\n",
              "    </tr>\n",
              "    <tr>\n",
              "      <th>195</th>\n",
              "      <td>382</td>\n",
              "      <td>6</td>\n",
              "      <td>Lionel Messi</td>\n",
              "      <td>Barcelona</td>\n",
              "      <td>30</td>\n",
              "      <td>8(2)</td>\n",
              "      <td>783</td>\n",
              "      <td>6</td>\n",
              "      <td>2</td>\n",
              "      <td>2</td>\n",
              "      <td>0</td>\n",
              "      <td>4.4</td>\n",
              "      <td>81.5</td>\n",
              "      <td>0.2</td>\n",
              "      <td>6</td>\n",
              "      <td>8.03</td>\n",
              "      <td>Argentina</td>\n",
              "    </tr>\n",
              "    <tr>\n",
              "      <th>222</th>\n",
              "      <td>428</td>\n",
              "      <td>42</td>\n",
              "      <td>Ever Banega</td>\n",
              "      <td>Sevilla</td>\n",
              "      <td>29</td>\n",
              "      <td>25(6)</td>\n",
              "      <td>2397</td>\n",
              "      <td>3</td>\n",
              "      <td>3</td>\n",
              "      <td>9</td>\n",
              "      <td>1</td>\n",
              "      <td>1.2</td>\n",
              "      <td>86.8</td>\n",
              "      <td>0.4</td>\n",
              "      <td>0</td>\n",
              "      <td>7.08</td>\n",
              "      <td>Argentina</td>\n",
              "    </tr>\n",
              "    <tr>\n",
              "      <th>223</th>\n",
              "      <td>430</td>\n",
              "      <td>15</td>\n",
              "      <td>Ever Banega</td>\n",
              "      <td>Sevilla</td>\n",
              "      <td>29</td>\n",
              "      <td>9</td>\n",
              "      <td>792</td>\n",
              "      <td>1</td>\n",
              "      <td>2</td>\n",
              "      <td>4</td>\n",
              "      <td>0</td>\n",
              "      <td>1.2</td>\n",
              "      <td>87.6</td>\n",
              "      <td>0.3</td>\n",
              "      <td>2</td>\n",
              "      <td>7.72</td>\n",
              "      <td>Argentina</td>\n",
              "    </tr>\n",
              "    <tr>\n",
              "      <th>248</th>\n",
              "      <td>480</td>\n",
              "      <td>129</td>\n",
              "      <td>Gabriel Mercado</td>\n",
              "      <td>Sevilla</td>\n",
              "      <td>31</td>\n",
              "      <td>25(1)</td>\n",
              "      <td>2124</td>\n",
              "      <td>0</td>\n",
              "      <td>1</td>\n",
              "      <td>9</td>\n",
              "      <td>0</td>\n",
              "      <td>0.7</td>\n",
              "      <td>83.1</td>\n",
              "      <td>1.6</td>\n",
              "      <td>1</td>\n",
              "      <td>6.80</td>\n",
              "      <td>Argentina</td>\n",
              "    </tr>\n",
              "    <tr>\n",
              "      <th>249</th>\n",
              "      <td>482</td>\n",
              "      <td>333</td>\n",
              "      <td>Gabriel Mercado</td>\n",
              "      <td>Sevilla</td>\n",
              "      <td>31</td>\n",
              "      <td>8</td>\n",
              "      <td>692</td>\n",
              "      <td>0</td>\n",
              "      <td>0</td>\n",
              "      <td>3</td>\n",
              "      <td>0</td>\n",
              "      <td>0.3</td>\n",
              "      <td>79.0</td>\n",
              "      <td>1</td>\n",
              "      <td>0</td>\n",
              "      <td>6.49</td>\n",
              "      <td>Argentina</td>\n",
              "    </tr>\n",
              "    <tr>\n",
              "      <th>272</th>\n",
              "      <td>528</td>\n",
              "      <td>5</td>\n",
              "      <td>Cristian Pavon</td>\n",
              "      <td>Boca Juniors</td>\n",
              "      <td>22</td>\n",
              "      <td>26</td>\n",
              "      <td>2283</td>\n",
              "      <td>6</td>\n",
              "      <td>11</td>\n",
              "      <td>3</td>\n",
              "      <td>0</td>\n",
              "      <td>2.5</td>\n",
              "      <td>74.0</td>\n",
              "      <td>0.7</td>\n",
              "      <td>5</td>\n",
              "      <td>7.57</td>\n",
              "      <td>Argentina</td>\n",
              "    </tr>\n",
              "    <tr>\n",
              "      <th>275</th>\n",
              "      <td>532</td>\n",
              "      <td>21</td>\n",
              "      <td>Maximiliano Meza</td>\n",
              "      <td>Independiente</td>\n",
              "      <td>26</td>\n",
              "      <td>17(2)</td>\n",
              "      <td>1539</td>\n",
              "      <td>3</td>\n",
              "      <td>4</td>\n",
              "      <td>1</td>\n",
              "      <td>0</td>\n",
              "      <td>2.5</td>\n",
              "      <td>76.5</td>\n",
              "      <td>2.1</td>\n",
              "      <td>0</td>\n",
              "      <td>7.30</td>\n",
              "      <td>Argentina</td>\n",
              "    </tr>\n",
              "    <tr>\n",
              "      <th>277</th>\n",
              "      <td>536</td>\n",
              "      <td>64</td>\n",
              "      <td>Franco Armani</td>\n",
              "      <td>River Plate</td>\n",
              "      <td>31</td>\n",
              "      <td>14</td>\n",
              "      <td>1260</td>\n",
              "      <td>0</td>\n",
              "      <td>0</td>\n",
              "      <td>0</td>\n",
              "      <td>0</td>\n",
              "      <td>-</td>\n",
              "      <td>62.3</td>\n",
              "      <td>0.4</td>\n",
              "      <td>0</td>\n",
              "      <td>7.11</td>\n",
              "      <td>Argentina</td>\n",
              "    </tr>\n",
              "    <tr>\n",
              "      <th>363</th>\n",
              "      <td>698</td>\n",
              "      <td>13</td>\n",
              "      <td>Angel Di Maria</td>\n",
              "      <td>Paris Saint Germain</td>\n",
              "      <td>30</td>\n",
              "      <td>26(4)</td>\n",
              "      <td>2122</td>\n",
              "      <td>11</td>\n",
              "      <td>6</td>\n",
              "      <td>1</td>\n",
              "      <td>0</td>\n",
              "      <td>3.2</td>\n",
              "      <td>79.4</td>\n",
              "      <td>-</td>\n",
              "      <td>3</td>\n",
              "      <td>7.37</td>\n",
              "      <td>Argentina</td>\n",
              "    </tr>\n",
              "    <tr>\n",
              "      <th>364</th>\n",
              "      <td>700</td>\n",
              "      <td>312</td>\n",
              "      <td>Angel Di Maria</td>\n",
              "      <td>Paris Saint Germain</td>\n",
              "      <td>30</td>\n",
              "      <td>1(4)</td>\n",
              "      <td>143</td>\n",
              "      <td>1</td>\n",
              "      <td>1</td>\n",
              "      <td>0</td>\n",
              "      <td>0</td>\n",
              "      <td>1.4</td>\n",
              "      <td>76.2</td>\n",
              "      <td>-</td>\n",
              "      <td>0</td>\n",
              "      <td>6.55</td>\n",
              "      <td>Argentina</td>\n",
              "    </tr>\n",
              "    <tr>\n",
              "      <th>406</th>\n",
              "      <td>784</td>\n",
              "      <td>1</td>\n",
              "      <td>Sergio Aguero</td>\n",
              "      <td>Manchester City</td>\n",
              "      <td>30</td>\n",
              "      <td>22(3)</td>\n",
              "      <td>1969</td>\n",
              "      <td>21</td>\n",
              "      <td>6</td>\n",
              "      <td>2</td>\n",
              "      <td>0</td>\n",
              "      <td>3.8</td>\n",
              "      <td>82.8</td>\n",
              "      <td>0.4</td>\n",
              "      <td>4</td>\n",
              "      <td>7.81</td>\n",
              "      <td>Argentina</td>\n",
              "    </tr>\n",
              "    <tr>\n",
              "      <th>407</th>\n",
              "      <td>785</td>\n",
              "      <td>109</td>\n",
              "      <td>Sergio Aguero</td>\n",
              "      <td>Manchester City</td>\n",
              "      <td>30</td>\n",
              "      <td>5(2)</td>\n",
              "      <td>440</td>\n",
              "      <td>4</td>\n",
              "      <td>1</td>\n",
              "      <td>0</td>\n",
              "      <td>0</td>\n",
              "      <td>3.4</td>\n",
              "      <td>77.2</td>\n",
              "      <td>0.3</td>\n",
              "      <td>0</td>\n",
              "      <td>7.05</td>\n",
              "      <td>Argentina</td>\n",
              "    </tr>\n",
              "    <tr>\n",
              "      <th>442</th>\n",
              "      <td>844</td>\n",
              "      <td>33</td>\n",
              "      <td>Nicolas Otamendi</td>\n",
              "      <td>Manchester City</td>\n",
              "      <td>30</td>\n",
              "      <td>33(1)</td>\n",
              "      <td>2968</td>\n",
              "      <td>4</td>\n",
              "      <td>0</td>\n",
              "      <td>9</td>\n",
              "      <td>0</td>\n",
              "      <td>0.9</td>\n",
              "      <td>91.9</td>\n",
              "      <td>2.3</td>\n",
              "      <td>5</td>\n",
              "      <td>7.13</td>\n",
              "      <td>Argentina</td>\n",
              "    </tr>\n",
              "    <tr>\n",
              "      <th>443</th>\n",
              "      <td>846</td>\n",
              "      <td>49</td>\n",
              "      <td>Nicolas Otamendi</td>\n",
              "      <td>Manchester City</td>\n",
              "      <td>30</td>\n",
              "      <td>8</td>\n",
              "      <td>720</td>\n",
              "      <td>1</td>\n",
              "      <td>0</td>\n",
              "      <td>2</td>\n",
              "      <td>0</td>\n",
              "      <td>0.6</td>\n",
              "      <td>92.6</td>\n",
              "      <td>3.3</td>\n",
              "      <td>0</td>\n",
              "      <td>7.28</td>\n",
              "      <td>Argentina</td>\n",
              "    </tr>\n",
              "    <tr>\n",
              "      <th>454</th>\n",
              "      <td>868</td>\n",
              "      <td>55</td>\n",
              "      <td>Manuel Lanzini</td>\n",
              "      <td>West Ham</td>\n",
              "      <td>25</td>\n",
              "      <td>23(4)</td>\n",
              "      <td>2049</td>\n",
              "      <td>5</td>\n",
              "      <td>6</td>\n",
              "      <td>4</td>\n",
              "      <td>0</td>\n",
              "      <td>1.6</td>\n",
              "      <td>87.6</td>\n",
              "      <td>0.1</td>\n",
              "      <td>2</td>\n",
              "      <td>7.04</td>\n",
              "      <td>Argentina</td>\n",
              "    </tr>\n",
              "    <tr>\n",
              "      <th>550</th>\n",
              "      <td>1056</td>\n",
              "      <td>56</td>\n",
              "      <td>Gonzalo Higuain</td>\n",
              "      <td>Juventus</td>\n",
              "      <td>30</td>\n",
              "      <td>9(1)</td>\n",
              "      <td>831</td>\n",
              "      <td>5</td>\n",
              "      <td>1</td>\n",
              "      <td>1</td>\n",
              "      <td>0</td>\n",
              "      <td>2.4</td>\n",
              "      <td>78.5</td>\n",
              "      <td>0.5</td>\n",
              "      <td>2</td>\n",
              "      <td>7.24</td>\n",
              "      <td>Argentina</td>\n",
              "    </tr>\n",
              "    <tr>\n",
              "      <th>551</th>\n",
              "      <td>1058</td>\n",
              "      <td>19</td>\n",
              "      <td>Gonzalo Higuain</td>\n",
              "      <td>Juventus</td>\n",
              "      <td>30</td>\n",
              "      <td>32(3)</td>\n",
              "      <td>2818</td>\n",
              "      <td>16</td>\n",
              "      <td>6</td>\n",
              "      <td>4</td>\n",
              "      <td>0</td>\n",
              "      <td>2.9</td>\n",
              "      <td>80.4</td>\n",
              "      <td>0.3</td>\n",
              "      <td>5</td>\n",
              "      <td>7.25</td>\n",
              "      <td>Argentina</td>\n",
              "    </tr>\n",
              "    <tr>\n",
              "      <th>556</th>\n",
              "      <td>1068</td>\n",
              "      <td>98</td>\n",
              "      <td>Federico Fazio</td>\n",
              "      <td>Roma</td>\n",
              "      <td>31</td>\n",
              "      <td>10(1)</td>\n",
              "      <td>922</td>\n",
              "      <td>0</td>\n",
              "      <td>1</td>\n",
              "      <td>2</td>\n",
              "      <td>0</td>\n",
              "      <td>0.5</td>\n",
              "      <td>85.5</td>\n",
              "      <td>2.9</td>\n",
              "      <td>0</td>\n",
              "      <td>7.07</td>\n",
              "      <td>Argentina</td>\n",
              "    </tr>\n",
              "    <tr>\n",
              "      <th>557</th>\n",
              "      <td>1070</td>\n",
              "      <td>18</td>\n",
              "      <td>Federico Fazio</td>\n",
              "      <td>Roma</td>\n",
              "      <td>31</td>\n",
              "      <td>32(2)</td>\n",
              "      <td>2920</td>\n",
              "      <td>2</td>\n",
              "      <td>0</td>\n",
              "      <td>6</td>\n",
              "      <td>0</td>\n",
              "      <td>0.5</td>\n",
              "      <td>84.4</td>\n",
              "      <td>4.4</td>\n",
              "      <td>5</td>\n",
              "      <td>7.26</td>\n",
              "      <td>Argentina</td>\n",
              "    </tr>\n",
              "    <tr>\n",
              "      <th>565</th>\n",
              "      <td>1085</td>\n",
              "      <td>181</td>\n",
              "      <td>Paulo Dybala</td>\n",
              "      <td>Juventus</td>\n",
              "      <td>24</td>\n",
              "      <td>8</td>\n",
              "      <td>661</td>\n",
              "      <td>1</td>\n",
              "      <td>0</td>\n",
              "      <td>0</td>\n",
              "      <td>1</td>\n",
              "      <td>4.1</td>\n",
              "      <td>87.7</td>\n",
              "      <td>0.1</td>\n",
              "      <td>0</td>\n",
              "      <td>6.86</td>\n",
              "      <td>Argentina</td>\n",
              "    </tr>\n",
              "    <tr>\n",
              "      <th>566</th>\n",
              "      <td>1087</td>\n",
              "      <td>1</td>\n",
              "      <td>Paulo Dybala</td>\n",
              "      <td>Juventus</td>\n",
              "      <td>24</td>\n",
              "      <td>26(7)</td>\n",
              "      <td>2358</td>\n",
              "      <td>22</td>\n",
              "      <td>5</td>\n",
              "      <td>0</td>\n",
              "      <td>0</td>\n",
              "      <td>3.5</td>\n",
              "      <td>87.3</td>\n",
              "      <td>0.2</td>\n",
              "      <td>8</td>\n",
              "      <td>7.77</td>\n",
              "      <td>Argentina</td>\n",
              "    </tr>\n",
              "    <tr>\n",
              "      <th>587</th>\n",
              "      <td>1128</td>\n",
              "      <td>81</td>\n",
              "      <td>Cristian Ansaldi</td>\n",
              "      <td>Torino</td>\n",
              "      <td>31</td>\n",
              "      <td>20(5)</td>\n",
              "      <td>1868</td>\n",
              "      <td>1</td>\n",
              "      <td>3</td>\n",
              "      <td>5</td>\n",
              "      <td>1</td>\n",
              "      <td>0.7</td>\n",
              "      <td>74.4</td>\n",
              "      <td>0.2</td>\n",
              "      <td>1</td>\n",
              "      <td>6.92</td>\n",
              "      <td>Argentina</td>\n",
              "    </tr>\n",
              "  </tbody>\n",
              "</table>\n",
              "</div>\n",
              "      <button class=\"colab-df-convert\" onclick=\"convertToInteractive('df-b9d8c515-c077-4681-885c-dd1f0493c9cf')\"\n",
              "              title=\"Convert this dataframe to an interactive table.\"\n",
              "              style=\"display:none;\">\n",
              "        \n",
              "  <svg xmlns=\"http://www.w3.org/2000/svg\" height=\"24px\"viewBox=\"0 0 24 24\"\n",
              "       width=\"24px\">\n",
              "    <path d=\"M0 0h24v24H0V0z\" fill=\"none\"/>\n",
              "    <path d=\"M18.56 5.44l.94 2.06.94-2.06 2.06-.94-2.06-.94-.94-2.06-.94 2.06-2.06.94zm-11 1L8.5 8.5l.94-2.06 2.06-.94-2.06-.94L8.5 2.5l-.94 2.06-2.06.94zm10 10l.94 2.06.94-2.06 2.06-.94-2.06-.94-.94-2.06-.94 2.06-2.06.94z\"/><path d=\"M17.41 7.96l-1.37-1.37c-.4-.4-.92-.59-1.43-.59-.52 0-1.04.2-1.43.59L10.3 9.45l-7.72 7.72c-.78.78-.78 2.05 0 2.83L4 21.41c.39.39.9.59 1.41.59.51 0 1.02-.2 1.41-.59l7.78-7.78 2.81-2.81c.8-.78.8-2.07 0-2.86zM5.41 20L4 18.59l7.72-7.72 1.47 1.35L5.41 20z\"/>\n",
              "  </svg>\n",
              "      </button>\n",
              "      \n",
              "  <style>\n",
              "    .colab-df-container {\n",
              "      display:flex;\n",
              "      flex-wrap:wrap;\n",
              "      gap: 12px;\n",
              "    }\n",
              "\n",
              "    .colab-df-convert {\n",
              "      background-color: #E8F0FE;\n",
              "      border: none;\n",
              "      border-radius: 50%;\n",
              "      cursor: pointer;\n",
              "      display: none;\n",
              "      fill: #1967D2;\n",
              "      height: 32px;\n",
              "      padding: 0 0 0 0;\n",
              "      width: 32px;\n",
              "    }\n",
              "\n",
              "    .colab-df-convert:hover {\n",
              "      background-color: #E2EBFA;\n",
              "      box-shadow: 0px 1px 2px rgba(60, 64, 67, 0.3), 0px 1px 3px 1px rgba(60, 64, 67, 0.15);\n",
              "      fill: #174EA6;\n",
              "    }\n",
              "\n",
              "    [theme=dark] .colab-df-convert {\n",
              "      background-color: #3B4455;\n",
              "      fill: #D2E3FC;\n",
              "    }\n",
              "\n",
              "    [theme=dark] .colab-df-convert:hover {\n",
              "      background-color: #434B5C;\n",
              "      box-shadow: 0px 1px 3px 1px rgba(0, 0, 0, 0.15);\n",
              "      filter: drop-shadow(0px 1px 2px rgba(0, 0, 0, 0.3));\n",
              "      fill: #FFFFFF;\n",
              "    }\n",
              "  </style>\n",
              "\n",
              "      <script>\n",
              "        const buttonEl =\n",
              "          document.querySelector('#df-b9d8c515-c077-4681-885c-dd1f0493c9cf button.colab-df-convert');\n",
              "        buttonEl.style.display =\n",
              "          google.colab.kernel.accessAllowed ? 'block' : 'none';\n",
              "\n",
              "        async function convertToInteractive(key) {\n",
              "          const element = document.querySelector('#df-b9d8c515-c077-4681-885c-dd1f0493c9cf');\n",
              "          const dataTable =\n",
              "            await google.colab.kernel.invokeFunction('convertToInteractive',\n",
              "                                                     [key], {});\n",
              "          if (!dataTable) return;\n",
              "\n",
              "          const docLinkHtml = 'Like what you see? Visit the ' +\n",
              "            '<a target=\"_blank\" href=https://colab.research.google.com/notebooks/data_table.ipynb>data table notebook</a>'\n",
              "            + ' to learn more about interactive tables.';\n",
              "          element.innerHTML = '';\n",
              "          dataTable['output_type'] = 'display_data';\n",
              "          await google.colab.output.renderOutput(dataTable, element);\n",
              "          const docLink = document.createElement('div');\n",
              "          docLink.innerHTML = docLinkHtml;\n",
              "          element.appendChild(docLink);\n",
              "        }\n",
              "      </script>\n",
              "    </div>\n",
              "  </div>\n",
              "  "
            ]
          },
          "metadata": {},
          "execution_count": 74
        }
      ]
    },
    {
      "cell_type": "markdown",
      "source": [
        "Data shows that Argentina got some of the best soccer players in the world. They got Lionel Messi who rakned number one once and had a good rating 8.68 and 8.03."
      ],
      "metadata": {
        "id": "wOrk2h3iD1KM"
      }
    },
    {
      "cell_type": "markdown",
      "source": [
        "####c. Create a histogram of the ‘Goals"
      ],
      "metadata": {
        "id": "MQVGsTdbEyAT"
      }
    },
    {
      "cell_type": "code",
      "source": [
        "df.Goals.plot.hist(title=\"Histogram of Goals\")"
      ],
      "metadata": {
        "colab": {
          "base_uri": "https://localhost:8080/",
          "height": 299
        },
        "id": "upPj7e4SE6ek",
        "outputId": "ae0bea60-7c93-46c1-81d2-86e1aab9034c"
      },
      "execution_count": 75,
      "outputs": [
        {
          "output_type": "execute_result",
          "data": {
            "text/plain": [
              "<matplotlib.axes._subplots.AxesSubplot at 0x7fdcd5a6fbd0>"
            ]
          },
          "metadata": {},
          "execution_count": 75
        },
        {
          "output_type": "display_data",
          "data": {
            "text/plain": [
              "<Figure size 432x288 with 1 Axes>"
            ],
            "image/png": "[encoded data removed]"
          },
          "metadata": {
            "needs_background": "light"
          }
        }
      ]
    },
    {
      "cell_type": "markdown",
      "source": [
        "####d. Create a histogram of the ‘Goals’ and ‘Assists’ on the same axis."
      ],
      "metadata": {
        "id": "Tfmbnb-9F1W3"
      }
    },
    {
      "cell_type": "code",
      "source": [
        "df[[\"Goals\", \"Assists\"]].plot.hist(alpha=0.5, title= \"Goals and Assists histogram\") #ploting with 50% opacity"
      ],
      "metadata": {
        "colab": {
          "base_uri": "https://localhost:8080/",
          "height": 299
        },
        "id": "0MeeQnHXF98W",
        "outputId": "3f2644f0-6eb8-4ab3-af41-8970d15c537e"
      },
      "execution_count": 76,
      "outputs": [
        {
          "output_type": "execute_result",
          "data": {
            "text/plain": [
              "<matplotlib.axes._subplots.AxesSubplot at 0x7fdcd59edc10>"
            ]
          },
          "metadata": {},
          "execution_count": 76
        },
        {
          "output_type": "display_data",
          "data": {
            "text/plain": [
              "<Figure size 432x288 with 1 Axes>"
            ],
            "image/png": "[encoded data removed]"
          },
          "metadata": {
            "needs_background": "light"
          }
        }
      ]
    },
    {
      "cell_type": "markdown",
      "source": [
        "####e. Create a barchart for most goals scored by nationality."
      ],
      "metadata": {
        "id": "SUebL7TRLW9U"
      }
    },
    {
      "cell_type": "code",
      "source": [
        "df.groupby('nationality').Goals.agg('max').plot.bar(title=\"Most Goals by Nationality\")"
      ],
      "metadata": {
        "colab": {
          "base_uri": "https://localhost:8080/",
          "height": 362
        },
        "id": "Z12kJ5YfLe9Z",
        "outputId": "ad0d603a-18ef-43bc-986c-a52adf99a5cd"
      },
      "execution_count": 85,
      "outputs": [
        {
          "output_type": "execute_result",
          "data": {
            "text/plain": [
              "<matplotlib.axes._subplots.AxesSubplot at 0x7fdcd52f8a90>"
            ]
          },
          "metadata": {},
          "execution_count": 85
        },
        {
          "output_type": "display_data",
          "data": {
            "text/plain": [
              "<Figure size 432x288 with 1 Axes>"
            ],
            "image/png": "[encoded data removed]"
          },
          "metadata": {
            "needs_background": "light"
          }
        }
      ]
    },
    {
      "cell_type": "markdown",
      "source": [
        "####f. Create a boxplot of ‘Yel’ (yellow cards) by nationality."
      ],
      "metadata": {
        "id": "vwJYRsmZMy_P"
      }
    },
    {
      "cell_type": "code",
      "source": [
        "ax = sns.boxplot(data = df, x= 'nationality', y = 'Yel')\n",
        "ax.set_title('Box plot of Yellow Cards by nationality')\n",
        "ax.set_xticklabels(ax.get_xticklabels(),rotation = 90)\n",
        "plt.show()"
      ],
      "metadata": {
        "colab": {
          "base_uri": "https://localhost:8080/",
          "height": 344
        },
        "id": "hFb8tECmM69g",
        "outputId": "8d548c01-1745-4230-b30a-6ee8feb81854"
      },
      "execution_count": 96,
      "outputs": [
        {
          "output_type": "display_data",
          "data": {
            "text/plain": [
              "<Figure size 432x288 with 1 Axes>"
            ],
            "image/png": "[encoded data removed]"
          },
          "metadata": {
            "needs_background": "light"
          }
        }
      ]
    },
    {
      "cell_type": "markdown",
      "source": [
        "####g. Create ‘Goals’ and ‘Assists’ as scatter"
      ],
      "metadata": {
        "id": "x_d7oxpCPlka"
      }
    },
    {
      "cell_type": "code",
      "source": [
        "ax = sns.scatterplot(data = df, x = 'Goals', y = 'Assists') \n",
        "ax.set(title= \"Goals and Assists Scatter\")\n",
        "plt.show()"
      ],
      "metadata": {
        "colab": {
          "base_uri": "https://localhost:8080/",
          "height": 295
        },
        "id": "26zYw18DPsLH",
        "outputId": "e45e8e08-890a-40c8-f0c8-b72ee410298a"
      },
      "execution_count": 103,
      "outputs": [
        {
          "output_type": "display_data",
          "data": {
            "text/plain": [
              "<Figure size 432x288 with 1 Axes>"
            ],
            "image/png": "[encoded data removed]"
          },
          "metadata": {
            "needs_background": "light"
          }
        }
      ]
    },
    {
      "cell_type": "markdown",
      "source": [
        "####Signify your favorite club or nationality in some way on the scatterplot.\n",
        "\n",
        "1.   List item\n",
        "2.   List item\n",
        "\n"
      ],
      "metadata": {
        "id": "nIuoUXrmQnj4"
      }
    },
    {
      "cell_type": "code",
      "source": [
        "ax=df.loc[df.nationality==\"Argentina\"] #Create a new dataframe for \"Argentina\"\n",
        "ax1=sns.scatterplot(data=ax, x = 'Goals', y = 'Assists')\n",
        "ax1.set(title = \"Argentina's Goals and Assists Scatter\")\n",
        "plt.show()"
      ],
      "metadata": {
        "colab": {
          "base_uri": "https://localhost:8080/",
          "height": 295
        },
        "id": "jvJTmsBbQm1G",
        "outputId": "b462d73d-a02a-45e5-ba37-46cbdbd41a89"
      },
      "execution_count": 104,
      "outputs": [
        {
          "output_type": "display_data",
          "data": {
            "text/plain": [
              "<Figure size 432x288 with 1 Axes>"
            ],
            "image/png": "[encoded data removed]"
          },
          "metadata": {
            "needs_background": "light"
          }
        }
      ]
    },
    {
      "cell_type": "markdown",
      "source": [
        "####h. Create stacked barplot of goals and assists of French National Team. (they won this tourney!) Be sure to comment on why it is appropriate to stack goals and assists."
      ],
      "metadata": {
        "id": "duXRLH9LTCny"
      }
    },
    {
      "cell_type": "code",
      "source": [
        "df1=df.loc[df.nationality==\"France\"]\n",
        "df1[['Goals','Assists']].plot(kind='bar', stacked=True)"
      ],
      "metadata": {
        "colab": {
          "base_uri": "https://localhost:8080/",
          "height": 292
        },
        "id": "YoKUTo-yTOaH",
        "outputId": "30c5a907-f7dc-4c8c-9427-a56394a310cf"
      },
      "execution_count": 110,
      "outputs": [
        {
          "output_type": "execute_result",
          "data": {
            "text/plain": [
              "<matplotlib.axes._subplots.AxesSubplot at 0x7fdcd480a610>"
            ]
          },
          "metadata": {},
          "execution_count": 110
        },
        {
          "output_type": "display_data",
          "data": {
            "text/plain": [
              "<Figure size 432x288 with 1 Axes>"
            ],
            "image/png": "[encoded data removed]"
          },
          "metadata": {
            "needs_background": "light"
          }
        }
      ]
    },
    {
      "cell_type": "markdown",
      "source": [
        "Stack bar plot is to compare to variable at the same time. Here we stacked goals and assists to compare the amount of goals and their assists. It showed a good visualization of there performance of goals compare to the assists."
      ],
      "metadata": {
        "id": "PPQB7GtbaAEL"
      }
    },
    {
      "cell_type": "markdown",
      "source": [
        "####Create a correlation heatmap of the entire dataset."
      ],
      "metadata": {
        "id": "Z6ZEQBBfa4-R"
      }
    },
    {
      "cell_type": "code",
      "source": [
        "sns.heatmap(df.corr(), annot=True, linewidths=1.5,vmin = -1)"
      ],
      "metadata": {
        "colab": {
          "base_uri": "https://localhost:8080/",
          "height": 338
        },
        "id": "9Ha8PQKobAYX",
        "outputId": "0a37e441-6ddc-4ef2-dee9-88660c5ea0b5"
      },
      "execution_count": 117,
      "outputs": [
        {
          "output_type": "execute_result",
          "data": {
            "text/plain": [
              "<matplotlib.axes._subplots.AxesSubplot at 0x7fdcd4480950>"
            ]
          },
          "metadata": {},
          "execution_count": 117
        },
        {
          "output_type": "display_data",
          "data": {
            "text/plain": [
              "<Figure size 432x288 with 2 Axes>"
            ],
            "image/png": "[encoded data removed]"
          },
          "metadata": {
            "needs_background": "light"
          }
        }
      ]
    },
    {
      "cell_type": "markdown",
      "source": [
        "##Question 2 "
      ],
      "metadata": {
        "id": "2rX3r71JcTmI"
      }
    },
    {
      "cell_type": "markdown",
      "source": [
        "**(a)** Approximately how long did you work on this exam?\n",
        "\n",
        "It took me 3 hours and 45 minutes to complete the exam.\n",
        "\n",
        "**(b)** Which was the hardest and easiest topic from this section?\n",
        "\n",
        "The hardest part for me was the second part of the scatter plot.\n",
        "The easiest part was the bar plot.\n",
        "\n",
        "**(c)** Which method of visualization are you still unclear what it might show?\n",
        "\n",
        "I have got an idea of all method of visualization which have been presented in class but want to learn more about mosaic plot."
      ],
      "metadata": {
        "id": "eMerzCk2cYTg"
      }
    }
  ]
}