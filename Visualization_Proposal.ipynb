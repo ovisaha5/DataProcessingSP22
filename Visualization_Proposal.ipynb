{
  "nbformat": 4,
  "nbformat_minor": 0,
  "metadata": {
    "colab": {
      "name": "Visualization_Proposal.ipynb",
      "provenance": [],
      "collapsed_sections": [],
      "authorship_tag": "ABX9TyNsaqnOQsCmaQxp877leX+e",
      "include_colab_link": true
    },
    "kernelspec": {
      "name": "python3",
      "display_name": "Python 3"
    },
    "language_info": {
      "name": "python"
    }
  },
  "cells": [
    {
      "cell_type": "markdown",
      "metadata": {
        "id": "view-in-github",
        "colab_type": "text"
      },
      "source": [
        "<a href=\"https://colab.research.google.com/github/ovisaha5/DataProcessingSP22/blob/main/Visualization_Proposal.ipynb\" target=\"_parent\"><img src=\"https://colab.research.google.com/assets/colab-badge.svg\" alt=\"Open In Colab\"/></a>"
      ]
    },
    {
      "cell_type": "markdown",
      "source": [
        "###Avijit Saha\n",
        "###Visualization Proposal"
      ],
      "metadata": {
        "id": "X-gDfUqjSdYW"
      }
    },
    {
      "cell_type": "markdown",
      "source": [
        "I am going to visualize recent covid-19 vaccination COVID-19 vaccine doses administered per 100 people versus gross domestic product per capita. This is a timely topic where vaccination is so important to fight against covid-19. The world heath organization share the dataset from a third pirty organization. The link is here, https://ourworldindata.org/covid-vaccinations\n",
        "\n",
        "https://covid19.who.int/data\n",
        "\n",
        "https://ourworldindata.org/grapher/covid-vaccinations-vs-gdp-per-capita\n"
      ],
      "metadata": {
        "id": "aoJoM1dkTeuV"
      }
    },
    {
      "cell_type": "markdown",
      "source": [
        "![Covid Vaccination vs GDP per Capita](https://media.springernature.com/full/springer-static/image/art%3A10.1038%2Fs41562-021-01122-8/MediaObjects/41562_2021_1122_Fig2_HTML.png?as=webp)"
      ],
      "metadata": {
        "id": "pL8GSC5BW4S-"
      }
    },
    {
      "cell_type": "markdown",
      "source": [
        "Here we can see that how gdp matter for the vaccination. This plot shows the colors by the world continent. I going to learn more about the scatter plot from this visualization. Also, how it is really showing so much information in a small place.Covid-19 vaccination is so important to fight against it. But some countries are still unable to get it properly because of their emonomic condition. So I feel this this an important timely issue which have a lot of information and some great visualiztion available in internet."
      ],
      "metadata": {
        "id": "5UJLBb2sXHKE"
      }
    }
  ]
}
