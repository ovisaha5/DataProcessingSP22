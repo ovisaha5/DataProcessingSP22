{
  "nbformat": 4,
  "nbformat_minor": 0,
  "metadata": {
    "colab": {
      "name": "Quiz_14_String.ipynb",
      "provenance": [],
      "collapsed_sections": [],
      "authorship_tag": "ABX9TyNDsFkE8btYTTkQsHnEAUeZ",
      "include_colab_link": true
    },
    "kernelspec": {
      "name": "python3",
      "display_name": "Python 3"
    },
    "language_info": {
      "name": "python"
    }
  },
  "cells": [
    {
      "cell_type": "markdown",
      "metadata": {
        "id": "view-in-github",
        "colab_type": "text"
      },
      "source": [
        "<a href=\"https://colab.research.google.com/github/ovisaha5/DataProcessingSP22/blob/main/Quiz_14_String.ipynb\" target=\"_parent\"><img src=\"https://colab.research.google.com/assets/colab-badge.svg\" alt=\"Open In Colab\"/></a>"
      ]
    },
    {
      "cell_type": "markdown",
      "source": [
        "####Avijit Saha\n",
        "####Quiz 14 String"
      ],
      "metadata": {
        "id": "LK3P8jzVWkXU"
      }
    },
    {
      "cell_type": "code",
      "source": [
        "happy=\"Happy Birth Day to You!\"\n",
        "replace=happy.replace('to You', 'Dear Avijit')\n",
        "print(happy)\n",
        "print(happy)\n",
        "print(replace)\n",
        "print(happy)"
      ],
      "metadata": {
        "colab": {
          "base_uri": "https://localhost:8080/"
        },
        "id": "GjPuIu-bWsDr",
        "outputId": "f66685e6-d0c0-4813-927a-e5353063ed41"
      },
      "execution_count": 49,
      "outputs": [
        {
          "output_type": "stream",
          "name": "stdout",
          "text": [
            "Happy Birth Day to You!\n",
            "Happy Birth Day to You!\n",
            "Happy Birth Day Dear Avijit!\n",
            "Happy Birth Day to You!\n"
          ]
        }
      ]
    }
  ]
}