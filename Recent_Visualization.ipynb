{
  "nbformat": 4,
  "nbformat_minor": 0,
  "metadata": {
    "colab": {
      "name": "Recent_Visualization.ipynb",
      "provenance": [],
      "collapsed_sections": [],
      "authorship_tag": "ABX9TyPO1yqnHcGMarehoih7dg0A",
      "include_colab_link": true
    },
    "kernelspec": {
      "name": "python3",
      "display_name": "Python 3"
    },
    "language_info": {
      "name": "python"
    }
  },
  "cells": [
    {
      "cell_type": "markdown",
      "metadata": {
        "id": "view-in-github",
        "colab_type": "text"
      },
      "source": [
        "<a href=\"https://colab.research.google.com/github/ovisaha5/DataProcessingSP22/blob/main/Recent_Visualization.ipynb\" target=\"_parent\"><img src=\"https://colab.research.google.com/assets/colab-badge.svg\" alt=\"Open In Colab\"/></a>"
      ]
    },
    {
      "cell_type": "markdown",
      "source": [
        "#Covid-19 Vaccination And Global Economy\n",
        "\n",
        "####Avijit Saha\n",
        "####Data Processing Visualization\n",
        "####CPSMA 4313\n",
        "####Dr. Nicholas Jacob\n",
        "\n",
        ">**Abstract** Covid-19 pandemic is a major problem to the global economy. Most of the businesses and companies ware shut down around the world becuase of it. After the availablity of vaccination the economy started to boost up for some of the country. The covid-19 vaccination is a current issue and it is impacting the world economy. In this article, we will see how vaccination is impacting global economy from differnt sources."
      ],
      "metadata": {
        "id": "-W49ZAQyUbhh"
      }
    },
    {
      "cell_type": "markdown",
      "source": [
        "After starting the Covid-19 pandemic the global economy fall down. It has fallen by 4.2%. After the availability of the vaccination by Pfizer and BioNTech, Moderna vaccine and , Astrezeneca in 2021 the economy started to grow. Here we will see how different sources describe that with their visualization."
      ],
      "metadata": {
        "id": "9argSL8yZz-j"
      }
    },
    {
      "cell_type": "markdown",
      "source": [
        "#World Economic Forum\n",
        "The artcle I have found from\n",
        "https://www.weforum.org/agenda/2021/01/global-economy-covid-vaccine-charts/\n",
        "\n",
        "![image](https://www.imf.org/-/media/Images/IMF/Publications/WEO/2020/October/English/weo-map-oct-20-social-eng.ashx)"
      ],
      "metadata": {
        "id": "KtSq1FBNW1E7"
      }
    },
    {
      "cell_type": "markdown",
      "source": [
        "In this article we see that how vaccination impact the GDP growth. They have compared each region of the world by the year and the whole world GDP growth by the year. In this article they have projected the world GDP growth after vacctination in 2021 was 5.2% where the USA is 3.2% which is clear from there graph. The graph is an example of visualuzation excellence. They have counted the percentage of each region precisely. The graph help them to write there part of the article where they was able to easily projected the GDP percentage within three years. In there article they can also include the vaccination percentage by countries which can make it more accurate. Otherwise this graph has a lot of information which we can see in their article as well. "
      ],
      "metadata": {
        "id": "YvpGZp1_m4fF"
      }
    },
    {
      "cell_type": "markdown",
      "source": [
        "#BBC\n",
        "The link of the article https://www.bbc.com/news/business-51706225\n",
        "\n",
        "![Stock Market](https://ichef.bbci.co.uk/news/976/cpsprodpb/55D5/production/_116637912_optimised-1-stockimpact_20012021-nc.png)\n",
        "\n",
        "In there article they have also discussed about the same issue that how global economy is impacting because of the corona virus and after the vacctination how it is grwoing. They have also discussed how world economy is strugling because of the unemployement and the low vaccination rate in several countries. They said the growth of economy of the starting of the year may be because of the normal tendency which is \"January Effect\". In my point of view this might not right. Because after vaccination many companies have started to reopen. The graph they have used for the share market which is representing the fall in the year of 2020 and the rise in the year of 2021 with some companies share. This is a good graph to present because it help them for the part of the whole article where the impact of the stock market came. I have not find any error in this graph since this is explaining the total year 2020 and then the starting of the 2021 which thay have already mention inthere article. Also, In this graph it has the starting and the first vaccination announced timeline. This is a graphically excellent. It has every data what they need to discuss that part of the article. The color combination the percentage, the company name and the years everything is precised.\n"
      ],
      "metadata": {
        "id": "-hiuEDCZuja0"
      }
    },
    {
      "cell_type": "markdown",
      "source": [
        "#IHS Markit\n",
        "\n",
        "![IHS](https://cdn.ihsmarkit.com/www/images/0721/realgdp-global-july2021.png)\n",
        "\n",
        "In this article, IHS MArkit are also taking about the same issue. They have elaborate how vaccination help to grow the economy and how economy of the countries with low vaccination rate get impacted after the delta varient comes. They have mentioned After a 3.5% decline in 2020, global real GDP is projected to expand 5.8% in 2021 and 4.7% in 2022 owing to support from a staggered reopening of regional economies as the pandemic subsides. Which is clear from the graph. They have compared the economic growth and projected economic growth from 2017 to 2025. Also, How world economy impact in the major economic zone in the world after the covid-19 started. This visualization help the whole article to measure the difference between economic growth after the pandemic with the years and world vs the major economic zone. The error I have found in this visualization is they have no data for Japan in the year of 2019. When they have mentioned the global economy and satrted with the major economic zone in the world so including Japan can make it more reliable. The another error I have found it could add data with each bar since it is telling about the economy of diffent zone. The Y-axis have the data but with each bar it is really hard to understand. Otherwise it is a good graphics and help the whole article to develped. About graphical excellence I can say that tis is a good graph but have some lackings to maintian the graphical excellence criteria. It shows a lot of data but I would say that data is not unclear with the viewing perspective of the graph."
      ],
      "metadata": {
        "id": "KCdvVXNEyQwZ"
      }
    },
    {
      "cell_type": "markdown",
      "source": [
        "#Similarities and Differences\n",
        "\n",
        "All of the graphs are describing about the same issues that how vacctination is helping to boost the world economy after the covid-19 pandemic. \n",
        "\n",
        "The differnce between first and the second one is first one is presenting the world economy differnce in three years in every region of the country and the second one is reprenting the economical fall and rise by the stock market and within two years 2020 and 2021. \n",
        "\n",
        "The first and third one is almost same graph in different way. They have projected the growth of economy for 2021 and the third one goes up to 2025. The data they have use look like simillar for example the world economy growth in 2021 is 5.2 in the first graph. The third graph is looking like 5.2 in 2021. First one showed the data of different region in the world and the third on focused on the major industrial region in the world. \n",
        "\n",
        "Second and the third one different from each other by its graphical presence and the data. One of them used the stock market data showed in the curved graph and another one used the bar graph and major industrial area.\n",
        "\n",
        "But, finally everyone focuses on the same issue; covid-19 pandemic impacts on economy and after the vaccination how countries started to reopen and grow their econmy."
      ],
      "metadata": {
        "id": "53g3m3wdHc-6"
      }
    },
    {
      "cell_type": "markdown",
      "source": [
        "#References\n",
        "\n",
        "* https://www.weforum.org/agenda/2021/01/global-economy-covid-vaccine-charts/\n",
        "\n",
        "* https://ihsmarkit.com/research-analysis/global-economic-growth-depends-covid19-vaccine.html\n",
        "\n",
        "* https://www.bbc.com/news/business-51706225\n"
      ],
      "metadata": {
        "id": "JQtRgrjhL4zi"
      }
    }
  ]
}