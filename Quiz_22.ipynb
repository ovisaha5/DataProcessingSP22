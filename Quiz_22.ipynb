{
  "nbformat": 4,
  "nbformat_minor": 0,
  "metadata": {
    "colab": {
      "name": "Quiz_22.ipynb",
      "provenance": [],
      "collapsed_sections": [],
      "authorship_tag": "ABX9TyPn4gCRLC95CEGg6epqyiBZ",
      "include_colab_link": true
    },
    "kernelspec": {
      "name": "python3",
      "display_name": "Python 3"
    },
    "language_info": {
      "name": "python"
    }
  },
  "cells": [
    {
      "cell_type": "markdown",
      "metadata": {
        "id": "view-in-github",
        "colab_type": "text"
      },
      "source": [
        "<a href=\"https://colab.research.google.com/github/ovisaha5/DataProcessingSP22/blob/main/Quiz_22.ipynb\" target=\"_parent\"><img src=\"https://colab.research.google.com/assets/colab-badge.svg\" alt=\"Open In Colab\"/></a>"
      ]
    },
    {
      "cell_type": "markdown",
      "source": [
        "##Quiz 22 Graphical Integrity\n",
        "###Avijit Saha"
      ],
      "metadata": {
        "id": "Pi80k-jYO5Rz"
      }
    },
    {
      "cell_type": "markdown",
      "source": [
        "###[First Poster](https://symposium.foragerone.com/okrd22/presentations/37223)\n",
        "**Integrating Human-Dimensions Survey to Understand Mesocarnivore Perceptions in Eastern Oklahoma.**\n",
        "\n",
        "In this poster, It is well discussed. Visually it is clear. Each of the bar chat visually present a lot of data and well precised. For example, the outdoor activities bar chart represent the number of respondents and their activities clearly. I did not find any weekness of any chat in this poster. It display the graphical excellence."
      ],
      "metadata": {
        "id": "7XGgA5QpPExC"
      }
    },
    {
      "cell_type": "markdown",
      "source": [
        "###[Second Poster](https://symposium.foragerone.com/okrd22/presentations/37502)\n",
        "**Challenges for New Oil Refineries**\n",
        "\n",
        "This poster has a map and a bar chart. One for the oil refine region of the U.S and another one showing the capacity by year. The chart is represting the data by the year and it is clear and well precised. The weak point I have found in the map which is showing the region is unclear. But the bar chart is clear and give an idea about the data for that percular year. It represent the graphical excellece."
      ],
      "metadata": {
        "id": "wvLoaTjDSwaW"
      }
    },
    {
      "cell_type": "markdown",
      "source": [
        "###[Third Poster](https://symposium.foragerone.com/okrd22/presentations/36400)\n",
        "**A decade in review: Longitudinal changes to NIH Scientific Review Groups’ composition to address gender- and region-based disparities.**\n",
        "\n",
        "This poster is a good example of graphical excellence. Each and every map and chart include a lot of data in a small place and visually it is representing a lot of things. It is clear and well precised. The strength of this poster is to include the data in the grphics and make a color code for each of the data."
      ],
      "metadata": {
        "id": "IjoVCIENU4WA"
      }
    }
  ]
}